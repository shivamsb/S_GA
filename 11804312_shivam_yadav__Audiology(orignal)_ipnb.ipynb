{
  "nbformat": 4,
  "nbformat_minor": 0,
  "metadata": {
    "colab": {
      "name": "11804312_shivam yadav_ Audiology(orignal).ipnb",
      "provenance": [],
      "collapsed_sections": [],
      "authorship_tag": "ABX9TyP+K+X7NhG1TrVIZg86Vi/i",
      "include_colab_link": true
    },
    "kernelspec": {
      "display_name": "Python 3",
      "name": "python3"
    },
    "language_info": {
      "name": "python"
    }
  },
  "cells": [
    {
      "cell_type": "markdown",
      "metadata": {
        "id": "view-in-github",
        "colab_type": "text"
      },
      "source": [
        "<a href=\"https://colab.research.google.com/github/shivamsb/S_GA/blob/main/11804312_shivam_yadav__Audiology(orignal)_ipnb.ipynb\" target=\"_parent\"><img src=\"https://colab.research.google.com/assets/colab-badge.svg\" alt=\"Open In Colab\"/></a>"
      ]
    },
    {
      "cell_type": "markdown",
      "metadata": {
        "id": "haa0nqcw6-Uv"
      },
      "source": [
        "# Opening The Data File"
      ]
    },
    {
      "cell_type": "code",
      "metadata": {
        "id": "vIQICAmgT1bW",
        "colab": {
          "base_uri": "https://localhost:8080/"
        },
        "outputId": "256801d9-a852-49c2-a3d5-65010996e0d2"
      },
      "source": [
        "f = open(\"/content/audiology(original).data\",\"r\")\n",
        "Lines=f.readlines()\n",
        "print(Lines)"
      ],
      "execution_count": 195,
      "outputs": [
        {
          "output_type": "stream",
          "text": [
            "['[p1,cochlear_unknown,[boneAbnormal,air(mild),ar_c(normal),ar_u(normal),o_ar_c(normal),o_ar_u(normal),speech(normal),static(normal),tymp(a)]]\\n', '[p2,cochlear_unknown,[boneAbnormal,air(moderate),ar_c(normal),ar_u(normal),o_ar_c(normal),o_ar_u(normal),speech(normal),static(normal),tymp(a)]]\\n', '[p3,mixed_cochlear_age_fixation,[age_gt_60,airBoneGap,boneAbnormal,air(mild),ar_u(absent),bone(mild),o_ar_u(absent),speech(normal),static(normal),tymp(as)]]\\n', '[p4,mixed_cochlear_age_otitis_media,[age_gt_60,airBoneGap,air(mild),ar_u(absent),bone(mild),o_ar_u(absent),speech(normal),static(normal),tymp(b)]]\\n', '[p5,cochlear_age,[age_gt_60,boneAbnormal,air(mild),ar_c(normal),ar_u(normal),bone(mild),o_ar_c(normal),o_ar_u(normal),speech(good),static(normal),tymp(a)]]\\n', '[p6,cochlear_age,[age_gt_60,boneAbnormal,air(mild),ar_c(normal),ar_u(normal),bone(mild),o_ar_c(normal),o_ar_u(normal),speech(very_good),static(normal),tymp(a)]]\\n', '[p7,cochlear_unknown,[boneAbnormal,air(mild),ar_c(normal),ar_u(normal),bone(mild),o_ar_c(normal),o_ar_u(normal),speech(good),static(normal),tymp(a)]]\\n', '[p8,cochlear_unknown,[boneAbnormal,air(mild),ar_c(normal),ar_u(normal),bone(mild),o_ar_c(normal),o_ar_u(normal),speech(very_good),static(normal),tymp(a)]]\\n', '[p9,cochlear_unknown,[boneAbnormal,air(severe),static(normal),tymp(a)]]\\n', '[p10,cochlear_age,[age_gt_60,boneAbnormal,air(mild),ar_c(elevated),ar_u(absent),bone(mild),o_ar_c(normal),o_ar_u(absent),speech(good),static(normal),tymp(a)]]\\n', '[p11,cochlear_age,[age_gt_60,boneAbnormal,air(mild),ar_c(normal),ar_u(absent),bone(mild),o_ar_c(normal),o_ar_u(absent),speech(very_good),static(normal),tymp(a)]]\\n', '[p12,cochlear_age,[age_gt_60,boneAbnormal,air(mild),ar_c(normal),ar_u(normal),o_ar_c(normal),o_ar_u(normal),speech(good),static(normal),tymp(a)]]\\n', '[p13,cochlear_unknown,[boneAbnormal,air(severe),ar_c(normal),ar_u(normal),bone(moderate),o_ar_c(normal),o_ar_u(normal),speech(very_poor),static(normal),tymp(a)]]\\n', '[p14,normal_ear,[air(normal),ar_c(elevated),ar_u(normal),bone(mild),o_ar_c(elevated),o_ar_u(elevated),speech(normal),static(normal),tymp(a)]]\\n', '[p15,cochlear_age,[age_gt_60,boneAbnormal,air(mild),ar_c(normal),ar_u(normal),bone(mild),o_ar_c(normal),o_ar_u(elevated),speech(very_good),static(normal),tymp(a)]]\\n', '[p16,cochlear_age,[age_gt_60,boneAbnormal,air(mild),ar_c(normal),ar_u(elevated),bone(mild),o_ar_c(normal),o_ar_u(elevated),speech(good),static(normal),tymp(a)]]\\n', '[p17,cochlear_poss_noise,[boneAbnormal,notch_at_4k,air(mild),ar_c(normal),ar_u(normal),bone(mild),history(noise),o_ar_c(normal),o_ar_u(elevated),speech(very_good),static(normal),tymp(a)]]\\n', '[p18,cochlear_poss_noise,[boneAbnormal,notch_at_4k,air(mild),ar_c(normal),ar_u(elevated),bone(mild),history(noise),o_ar_c(normal),o_ar_u(normal),speech(normal),static(normal),tymp(a)]]\\n', '[p19,normal_ear,[air(normal),ar_c(normal),ar_u(normal),o_ar_c(normal),o_ar_u(elevated),speech(normal),static(normal),tymp(a)]]\\n', '[p20,cochlear_unknown,[m_sn_2_3k,air(normal),ar_c(normal),ar_u(elevated),o_ar_c(normal),o_ar_u(normal),speech(normal),static(normal),tymp(a)]]\\n', '[p21,cochlear_age_and_noise,[age_gt_60,boneAbnormal,s_sn_gt_1k,air(mild),ar_c(normal),ar_u(normal),history(noise),o_ar_c(normal),o_ar_u(normal),speech(very_poor),static(normal),tymp(a)]]\\n', '[p22,cochlear_age_and_noise,[age_gt_60,boneAbnormal,s_sn_gt_2k,air(mild),ar_c(normal),ar_u(normal),history(noise),o_ar_c(normal),o_ar_u(normal),speech(normal),static(normal),tymp(a)]]\\n', '[p23,cochlear_poss_noise,[boneAbnormal,notch_4k,s_sn_gt_2k,air(normal),ar_c(normal),ar_u(normal),history(noise),o_ar_c(normal),o_ar_u(normal),speech(good),static(normal),tymp(a)]]\\n', '[p24,normal_ear,[air(normal),ar_c(normal),ar_u(normal),bone(normal),o_ar_c(normal),o_ar_u(normal),speech(normal),static(normal),tymp(a)]]\\n', '[p25,cochlear_unknown,[boneAbnormal,air(moderate),ar_c(elevated),ar_u(elevated),o_ar_c(normal),o_ar_u(normal),speech(very_poor),static(normal),tymp(a)]]\\n', '[p26,cochlear_unknown,[boneAbnormal,mod_sn_gt_3k,air(normal),ar_c(normal),ar_u(normal),bone(normal),o_ar_c(normal),o_ar_u(elevated),speech(very_good),static(normal),tymp(a)]]\\n', '[p27,cochlear_unknown,[boneAbnormal,m_sn_gt_2k,air(normal),ar_c(normal),ar_u(elevated),bone(normal),o_ar_c(normal),o_ar_u(normal),speech(very_good),static(normal),tymp(a)]]\\n', '[p28,cochlear_poss_noise,[boneAbnormal,s_sn_gt_4k,air(mild),ar_c(normal),ar_u(normal),history(noise),o_ar_c(normal),o_ar_u(normal),speech(normal),static(normal),tymp(a)]]\\n', '[p29,acoustic_neuroma,[boneAbnormal,air(mild),ar_c(absent),ar_u(absent),bone(mild),o_ar_c(elevated),o_ar_u(normal),speech(very_poor),static(normal),tymp(a)]]\\n', '[p30,cochlear_unknown,[boneAbnormal,air(mild),ar_c(elevated),ar_u(normal),bone(mild),o_ar_c(absent),o_ar_u(absent),speech(normal),static(normal),tymp(a)]]\\n', '[p31,cochlear_poss_noise,[m_sn_gt_2k,notch_4k,air(mild),ar_c(normal),ar_u(normal),history(noise),o_ar_c(elevated),o_ar_u(normal),speech(normal),static(normal),tymp(a)]]\\n', '[p32,normal_ear,[air(normal),ar_c(elevated),ar_u(normal),o_ar_c(normal),o_ar_u(normal),speech(normal),static(normal),tymp(a)]]\\n', '[p33,cochlear_unknown,[m_sn_gt_2k,notch_4k,air(normal),ar_c(normal),ar_u(elevated),o_ar_c(elevated),o_ar_u(normal),speech(good),static(normal),tymp(a)]]\\n', '[p34,cochlear_unknown,[mod_sn_gt_3k,notch_4k,air(normal),ar_c(elevated),ar_u(elevated),o_ar_c(normal),o_ar_u(normal),speech(good),static(normal),tymp(a)]]\\n', '[p35,mixed_cochlear_unk_ser_om,[airBoneGap,boneAbnormal,air(moderate),ar_c(absent),ar_u(absent),bone(mild),o_ar_c(absent),o_ar_u(normal),speech(very_good),static(normal),tymp(b)]]\\n', '[p36,cochlear_unknown,[boneAbnormal,air(mild),ar_c(absent),ar_u(normal),bone(mild),o_ar_c(absent),o_ar_u(absent),speech(normal),static(normal),tymp(a)]]\\n', '[p37,cochlear_age_and_noise,[age_gt_60,boneAbnormal,notch_4k,air(mild),ar_c(absent),ar_u(absent),bone(mild),history(noise),o_ar_c(absent),o_ar_u(absent),speech(very_good),static(normal),tymp(a)]]\\n', '[p38,normal_ear,[air(normal),ar_c(absent),ar_u(elevated),bone(normal),o_ar_c(absent),o_ar_u(absent),speech(normal),static(normal),tymp(a)]]\\n', '[p39,conductive_discontinuity,[airBoneGap,air(severe),ar_c(absent),ar_u(absent),bone(mild),o_ar_c(absent),o_ar_u(elevated),speech(very_poor),static(normal),tymp(ad)]]\\n', '[p40,cochlear_age,[age_gt_60,m_sn_gt_2k,air(normal),ar_c(normal),ar_u(normal),o_ar_c(normal),o_ar_u(elevated),speech(good),static(normal),tymp(a)]]\\n', '[p41,cochlear_age,[age_gt_60,m_sn_gt_2k,air(normal),ar_c(elevated),ar_u(normal),o_ar_c(normal),o_ar_u(normal),speech(very_good),static(normal),tymp(a)]]\\n', '[p42,normal_ear,[air(normal),ar_c(normal),ar_u(elevated),bone(normal),o_ar_c(absent),o_ar_u(absent),speech(normal),static(normal),tymp(a)]]\\n', '[p43,cochlear_age,[age_gt_60,air(mild),ar_c(normal),ar_u(normal),o_ar_c(normal),o_ar_u(normal),speech(normal),static(normal),tymp(a)]]\\n', '[p44,cochlear_unknown,[m_sn_gt_2k,notch_4k,air(mild),ar_c(elevated),ar_u(normal),o_ar_c(elevated),o_ar_u(elevated),speech(normal),static(normal),tymp(a)]]\\n', '[p45,cochlear_unknown,[m_sn_gt_3k,notch_4k,air(mild),ar_c(elevated),ar_u(elevated),o_ar_c(elevated),o_ar_u(normal),speech(normal),static(normal),tymp(a)]]\\n', '[p46,retrocochlear_unknown,[boneAbnormal,wave_V_delayed,air(moderate),ar_c(absent),ar_u(absent),bone(moderate),history(buzzing),history(fullness),o_ar_c(normal),o_ar_u(elevated),speech(very_poor),static(normal),tymp(a)]]\\n', '[p47,conductive_fixation,[airBoneGap,air(mild),ar_c(absent),ar_u(absent),bone(normal),o_ar_c(absent),o_ar_u(absent),static(normal),tymp(as)]]\\n', '[p48,cochlear_unknown,[boneAbnormal,air(mild),ar_c(absent),ar_u(absent),bone(mild),o_ar_c(absent),o_ar_u(elevated),speech(normal),static(normal),tymp(a)]]\\n', '[p49,normal_ear,[air(normal),ar_c(absent),ar_u(elevated),bone(normal),o_ar_c(absent),o_ar_u(absent),speech(normal),static(normal),tymp(a)]]\\n', '[p50,cochlear_age,[age_gt_60,s_sn_gt_2k,air(moderate),ar_c(normal),ar_u(normal),o_ar_c(normal),o_ar_u(elevated),speech(very_poor),tymp(a)]]\\n', '[p51,cochlear_age,[age_gt_60,s_sn_gt_2k,air(moderate),ar_c(normal),ar_u(elevated),o_ar_c(normal),o_ar_u(normal),speech(very_poor),tymp(a)]]\\n', '[p52,cochlear_age,[age_gt_60,m_sn_gt_4k,air(normal),ar_c(elevated),ar_u(normal),o_ar_c(normal),o_ar_u(normal),speech(good),static(normal),tymp(a)]]\\n', '[p53,normal_ear,[air(normal),ar_c(absent),ar_u(elevated),bone(normal),o_ar_c(absent),o_ar_u(absent),speech(normal),static(normal),tymp(a)]]\\n', '[p54,conductive_discontinuity,[airBoneGap,air(moderate),ar_c(absent),ar_u(absent),bone(normal),o_ar_c(absent),o_ar_u(elevated),speech(good),static(normal),tymp(ad)]]\\n', '[p55,normal_ear,[air(normal),ar_c(elevated),ar_u(absent),o_ar_c(elevated),o_ar_u(elevated),speech(normal),static(normal),tymp(a)]]\\n', '[p56,cochlear_unknown,[mod_sn_gt_4k,air(normal),ar_c(elevated),ar_u(elevated),bone(normal),o_ar_c(elevated),o_ar_u(absent),speech(normal),static(normal),tymp(a)]]\\n', '[p57,cochlear_unknown,[mod_sn_gt_2k,air(mild),ar_c(normal),ar_u(normal),o_ar_c(normal),o_ar_u(normal),speech(good),static(normal),tymp(a)]]\\n', '[p58,cochlear_age,[age_gt_60,air(mild),ar_c(normal),ar_u(normal),o_ar_c(normal),o_ar_u(elevated),speech(very_good),tymp(a)]]\\n', '[p59,cochlear_age,[age_gt_60,air(mild),ar_c(normal),ar_u(elevated),o_ar_c(normal),o_ar_u(elevated),speech(poor),static(normal),tymp(a)]]\\n', '[p60,cochlear_poss_noise,[m_m_sn_gt_2k,notch_4k,air(normal),ar_c(normal),ar_u(elevated),history(noise),o_ar_c(elevated),o_ar_u(normal),speech(very_good),static(normal),tymp(a)]]\\n', '[p61,cochlear_poss_noise,[m_m_sn_gt_2k,notch_4k,air(normal),ar_c(elevated),ar_u(normal),history(noise),o_ar_c(normal),o_ar_u(elevated),speech(normal),static(normal),tymp(a)]]\\n', '[p62,cochlear_age_and_noise,[age_gt_60,mod_sn_gt_500,notch_4k,air(mild),ar_c(normal),ar_u(normal),history(noise),o_ar_c(normal),o_ar_u(normal),speech(good),static(normal),tymp(a)]]\\n', '[p63,cochlear_age_and_noise,[age_gt_60,mod_s_sn_gt_500,notch_4k,air(mild),ar_c(normal),ar_u(normal),history(noise),o_ar_c(normal),o_ar_u(normal),speech(poor),static(normal),tymp(a)]]\\n', '[p64,cochlear_unknown,[mod_sn_gt_2k,notch_4k,air(normal),ar_c(elevated),ar_u(elevated),bone(normal),o_ar_c(normal),o_ar_u(normal),speech(normal),static(normal),tymp(a)]]\\n', '[p65,normal_ear,[air(normal),ar_c(normal),ar_u(normal),bone(normal),o_ar_c(elevated),o_ar_u(elevated),speech(normal),static(normal),tymp(a)]]\\n', '[p66,cochlear_unknown,[air(mild),ar_c(absent),ar_u(normal),o_ar_c(elevated),o_ar_u(absent),speech(good),static(normal),tymp(a)]]\\n', '[p67,normal_ear,[air(normal),ar_c(elevated),ar_u(normal),o_ar_c(normal),o_ar_u(absent),speech(normal),static(normal),tymp(a)]]\\n', '[p68,cochlear_age_and_noise,[age_gt_60,m_sn_gt_1k,notch_4k,air(mild),ar_c(absent),history(noise),o_ar_c(absent),o_ar_u(absent),speech(good),static(normal),tymp(a)]]\\n', '[p69,cochlear_age_and_noise,[age_gt_60,m_sn_gt_1k,air(mild),ar_c(absent),ar_u(absent),bone(mild),history(noise),o_ar_c(absent),o_ar_u(absent),speech(very_good),static(normal),tymp(a)]]\\n', '[p70,cochlear_unknown,[mod_sn_gt_500,air(mild),ar_c(elevated),ar_u(elevated),bone(mild),o_ar_c(elevated),o_ar_u(normal),speech(poor),static(normal),tymp(a)]]\\n', '[p71,cochlear_unknown,[mod_sn_gt_500,air(mild),ar_c(elevated),ar_u(normal),bone(mild),o_ar_c(elevated),o_ar_u(elevated),speech(poor),static(normal),tymp(a)]]\\n', '[p72,normal_ear,[air(normal),ar_c(absent),ar_u(normal),bone(normal),o_ar_c(normal),o_ar_u(absent),speech(normal),static(normal),tymp(a)]]\\n', '[p73,cochlear_age,[age_gt_60,m_sn_gt_4k,air(normal),ar_c(normal),ar_u(elevated),bone(normal),o_ar_c(elevated),o_ar_u(normal),speech(normal),static(normal),tymp(a)]]\\n', '[p74,cochlear_age,[age_gt_60,m_sn_gt_4k,air(normal),ar_c(elevated),ar_u(normal),bone(normal),o_ar_c(normal),o_ar_u(elevated),speech(good),static(normal),tymp(a)]]\\n', '[p75,cochlear_age_and_noise,[age_gt_60,mod_sn_gt_2k,air(mild),ar_c(absent),ar_u(elevated),bone(mild),history(noise),o_ar_c(absent),o_ar_u(absent),speech(poor),static(normal),tymp(a)]]\\n', '[p76,normal_ear,[air(normal),ar_c(absent),ar_u(normal),bone(normal),o_ar_c(absent),o_ar_u(absent),speech(normal),static(normal),tymp(a)]]\\n', '[p77,bells_palsy,[viith_nerve_signs,air(mild),ar_c(absent),ar_u(absent),bone(mild),o_ar_c(absent),o_ar_u(normal),speech(normal),static(normal),tymp(a)]]\\n', '[p78,cochlear_noise_and_heredity,[s_sn_gt_2k,air(normal),ar_c(normal),ar_u(normal),history(heredity),history(noise),o_ar_c(normal),o_ar_u(elevated),speech(very_good),static(normal),tymp(a)]]\\n', '[p79,cochlear_noise_and_heredity,[s_sn_gt_2k,air(normal),ar_c(normal),ar_u(elevated),history(heredity),history(noise),o_ar_c(normal),o_ar_u(normal),speech(good),static(normal),tymp(a)]]\\n', '[p80,cochlear_unknown,[mod_gt_4k,air(normal),ar_c(absent),ar_u(normal),bone(normal),o_ar_c(absent),o_ar_u(absent),speech(normal),static(normal),tymp(a)]]\\n', '[p81,mixed_cochlear_unk_ser_om,[airBoneGap,boneAbnormal,air(moderate),ar_c(absent),ar_u(absent),bone(mild),o_ar_c(absent),o_ar_u(absent),speech(very_good),static(normal),tymp(b)]]\\n', '[p82,mixed_cochlear_unk_fixation,[airBoneGap,air(mild),ar_c(absent),ar_u(absent),bone(mild),o_ar_c(absent),o_ar_u(absent),speech(normal),static(normal),tymp(as)]]\\n', '[p83,mixed_cochlear_unk_fixation,[airBoneGap,air(moderate),ar_c(absent),ar_u(absent),bone(mild),o_ar_c(absent),o_ar_u(absent),speech(very_good),static(normal),tymp(as)]]\\n', '[p84,cochlear_age,[age_gt_60,air(mild),ar_c(normal),ar_u(normal),o_ar_c(normal),o_ar_u(normal),speech(normal),static(normal),tymp(a)]]\\n', '[p85,mixed_poss_noise_om,[boneAbnormal,air(mild),ar_c(elevated),ar_u(normal),bone(mild),history(noise),o_ar_c(elevated),o_ar_u(normal),speech(very_good),static(normal),tymp(c)]]\\n', '[p86,mixed_poss_noise_om,[boneAbnormal,air(mild),ar_c(elevated),ar_u(normal),bone(mild),history(noise),o_ar_c(elevated),o_ar_u(normal),speech(poor),static(normal),tymp(c)]]\\n', '[p87,otitis_media,[airBoneGap,air(mild),ar_c(absent),ar_u(absent),o_ar_c(absent),o_ar_u(elevated),speech(normal),static(normal),tymp(b)]]\\n', '[p88,otitis_media,[air(normal),ar_c(absent),ar_u(elevated),o_ar_c(absent),o_ar_u(absent),speech(normal),static(normal),tymp(c)]]\\n', '[p89,possible_menieres,[air(mild),ar_c(elevated),ar_u(normal),bone(mild),history(dizziness),history(fluctuating),history(roaring),o_ar_c(normal),o_ar_u(elevated),speech(good),tymp(a)]]\\n', '[p90,normal_ear,[air(normal),ar_c(normal),ar_u(elevated),o_ar_c(elevated),o_ar_u(normal),speech(very_good),static(normal),tymp(a)]]\\n', '[p91,possible_brainstem_disorder,[air(normal),ar_c(normal),ar_u(normal),history(dizziness),history(nausea),history(roaring),o_ar_c(normal),o_ar_u(normal),speech(normal),tymp(a),waveform_ItoV(prolonged)]]\\n', '[p92,possible_menieres,[m_sn_gt_4k,m_sn_lt_1k,air(mild),ar_c(normal),ar_u(normal),history(dizziness),history(fluctuating),history(vomiting),o_ar_c(normal),o_ar_u(normal),speech(normal),tymp(a)]]\\n', '[p93,cochlear_unknown,[m_sn_gt_4k,air(normal),ar_c(normal),ar_u(normal),history(dizziness),history(vomiting),o_ar_c(normal),o_ar_u(normal),speech(normal),tymp(a)]]\\n', '[p94,cochlear_poss_noise,[mod_sn_gt_3k,notch_at_4k,air(normal),ar_c(normal),ar_u(normal),history(noise),o_ar_c(normal),o_ar_u(normal),speech(normal),static(normal),tymp(a)]]\\n', '[p95,cochlear_age_plus_poss_menieres,[age_gt_60,air(severe),ar_c(normal),ar_u(normal),history(dizziness),o_ar_c(normal),o_ar_u(normal),speech(very_poor),static(normal),tymp(a)]]\\n', '[p96,possible_menieres,[m_sn_gt_1k,air(mild),ar_c(normal),ar_u(normal),history(dizziness),history(fluctuating),history(recruitment),o_ar_c(normal),o_ar_u(normal),speech(normal),tymp(a)]]\\n', '[p97,possible_menieres,[age_gt_60,air(moderate),ar_c(normal),ar_u(normal),bone(moderate),history(dizziness),history(fluctuating),history(nausea),o_ar_c(normal),o_ar_u(normal),speech(very_poor),static(normal),tymp(a)]]\\n', '[p98,possible_menieres,[age_gt_60,air(moderate),ar_c(elevated),ar_u(normal),bone(unmeasured),history(nausea),history(noise),history(roaring),history(vomiting),o_ar_c(normal),o_ar_u(normal),speech(very_poor),static(normal),tymp(a)]]\\n', '[p99,cochlear_unknown,[m_sn_gt_2k,air(mild),ar_c(normal),ar_u(normal),history(dizziness),history(nausea),history(noise),history(roaring),history(vomiting),o_ar_c(normal),o_ar_u(normal),speech(normal),static(normal),tymp(a)]]\\n', '[p100,cochlear_age,[age_gt_60,m_sn_gt_4k,air(normal),ar_c(normal),ar_u(normal),o_ar_c(normal),o_ar_u(normal),speech(normal),static(normal),tymp(a)]]\\n', '[p101,otitis_media,[airBoneGap,air(moderate),ar_c(absent),ar_u(absent),bone(normal),history(noise),o_ar_c(absent),o_ar_u(absent),speech(very_poor),static(normal),tymp(b)]]\\n', '[p102,mixed_cochlear_unk_ser_om,[airBoneGap,boneAbnormal,air(severe),ar_c(absent),ar_u(absent),bone(mild),o_ar_c(absent),o_ar_u(elevated),speech(poor),static(normal),tymp(b)]]\\n', '[p103,otitis_media,[airBoneGap,air(mild),ar_c(absent),ar_u(elevated),bone(normal),o_ar_c(absent),o_ar_u(absent),speech(very_good),static(normal),tymp(a)]]\\n', '[p104,mixed_cochlear_age_s_om,[age_gt_60,airBoneGap,air(moderate),ar_c(normal),ar_u(absent),bone(mild),history(noise),o_ar_c(absent),o_ar_u(absent),speech(very_poor),static(normal),tymp(b)]]\\n', '[p105,cochlear_age,[age_gt_60,mod_sn_gt_2k,air(normal),ar_c(absent),ar_u(absent),bone(normal),history(noise),o_ar_c(normal),o_ar_u(absent),speech(good),static(normal),tymp(a)]]\\n', '[p106,cochlear_unknown,[mod_sn_gt_4k,air(normal),ar_c(normal),ar_u(normal),bone(unmeasured),history(noise),o_ar_c(normal),o_ar_u(normal),speech(normal),static(normal),tymp(a)]]\\n', '[p107,cochlear_poss_noise,[notch_at_4k,s_sn_gt_1k,air(mild),ar_c(normal),ar_u(elevated),bone(unmeasured),history(noise),o_ar_c(normal),o_ar_u(elevated),speech(poor),static(normal),tymp(a)]]\\n', '[p108,normal_ear,[air(normal),ar_c(normal),ar_u(normal),bone(normal),history(dizziness),o_ar_c(elevated),o_ar_u(elevated),speech(very_good),static(normal),tymp(a)]]\\n', '[p109,retrocochlear_unknown,[notch_at_4k,wave_V_delayed,air(mild),ar_c(elevated),ar_u(elevated),bone(mild),history(dizziness),history(ringing),o_ar_c(normal),o_ar_u(normal),speech(good),static(normal),tymp(a)]]\\n', '[p110,mixed_cochlear_unk_discontinuity,[m_gt_1k,air(mild),ar_c(absent),ar_u(absent),bone(normal),history(dizziness),history(noise),history(ringing),o_ar_c(absent),o_ar_u(elevated),speech(very_good),static(normal),tymp(ad)]]\\n', '[p111,cochlear_unknown,[mod_sn_gt_3k,notch_4k,air(normal),ar_c(normal),ar_u(normal),bone(unmeasured),o_ar_c(normal),o_ar_u(normal),speech(normal),static(normal),tymp(a)]]\\n', '[p112,mixed_cochlear_unk_fixation,[airBoneGap,m_sn_gt_500,air(moderate),ar_c(absent),ar_u(absent),bone(mild),history(ringing),o_ar_c(absent),o_ar_u(normal),speech(normal),static(normal),tymp(as)]]\\n', '[p113,normal_ear,[air(normal),ar_c(absent),ar_u(normal),bone(normal),o_ar_c(absent),o_ar_u(absent),speech(very_good),static(normal),tymp(a)]]\\n', '[p114,possible_menieres,[m_sn_lt_1k,air(mild),ar_c(absent),ar_u(absent),bone(mild),history(fluctuating),o_ar_c(absent),o_ar_u(elevated),speech(very_good),static(normal),tymp(a)]]\\n', '[p115,mixed_cochlear_age_otitis_media,[age_gt_60,mod_sn_gt_3k,air(normal),ar_c(absent),ar_u(absent),bone(normal),o_ar_u(absent),speech(normal),static(normal),tymp(c)]]\\n', '[p116,mixed_cochlear_age_s_om,[age_gt_60,mod_sn_gt_2k,air(normal),ar_c(absent),ar_u(absent),bone(normal),o_ar_c(absent),o_ar_u(absent),speech(poor),static(normal),tymp(b)]]\\n', '[p117,mixed_poss_central_om,[m_sn_gt_1k,air(mild),ar_c(absent),ar_u(absent),bone(normal),bser(normal),late_wave(poor),middle_wave(poor),o_ar_c(absent),o_ar_u(absent),speech(normal),static(normal),tymp(c)]]\\n', '[p118,poss_central,[m_sn_gt_2k,air(normal),ar_c(absent),ar_u(absent),bone(normal),bser(normal),late_wave(poor),middle_wave(poor),o_ar_c(absent),o_ar_u(absent),speech(poor),static(normal),tymp(a)]]\\n', '[p119,mixed_cochlear_age_otitis_media,[age_gt_60,airBoneGap,m_m_sn,air(moderate),ar_c(elevated),ar_u(absent),bone(mild),o_ar_c(absent),o_ar_u(elevated),speech(good),static(normal),tymp(c)]]\\n', '[p120,possible_brainstem_disorder,[m_sn_gt_2k,air(normal),ar_c(normal),ar_u(normal),bone(unmeasured),bser(degraded),history(nausea),o_ar_c(normal),o_ar_u(normal),speech(normal),tymp(a)]]\\n', '[p121,cochlear_unknown,[boneAbnormal,tymp(a),static(normal),air(profound)]]\\n', '[p122,cochlear_age,[age_gt_60,speech(good),o_ar_c(normal),o_ar_u(normal),ar_u(normal),ar_c(normal),static(normal),tymp(a),air(mild),boneAbnormal]]\\n', '[p123,cochlear_age,[bone(mild),age_gt_60,speech(good),o_ar_c(normal),o_ar_u(elevated),ar_u(elevated),ar_c(normal),static(normal),tymp(a),air(mild),boneAbnormal]]\\n', '[p124,cochlear_unknown,[boneAbnormal,air(mild),bone(mild),speech(normal),o_ar_c(normal),o_ar_u(normal),ar_u(normal),ar_c(normal),static(normal),tymp(a)]]\\n', '[p125,cochlear_unknown,[boneAbnormal,mod_sn_gt_3k,air(normal),bone(normal),speech(very_good),o_ar_c(normal),o_ar_u(elevated),ar_u(normal),ar_c(normal),static(normal),tymp(a)]]\\n', '[p126,cochlear_poss_noise,[s_sn_gt_4k,history(noise),speech(normal),o_ar_c(normal),o_ar_u(normal),ar_u(normal),ar_c(normal),static(normal),tymp(a),air(mild),boneAbnormal]]\\n', '[p127,cochlear_age,[bone(mild),age_gt_60,speech(poor),o_ar_c(normal),o_ar_u(normal),ar_u(normal),ar_c(normal),static(normal),tymp(a),air(mild),boneAbnormal]]\\n', '[p128,cochlear_age,[bone(mild),age_gt_60,speech(good),o_ar_c(normal),o_ar_u(normal),ar_u(normal),ar_c(normal),static(normal),tymp(a),air(mild),boneAbnormal]]\\n', '[p129,cochlear_age_and_noise,[notch_4k,bone(mild),history(noise),age_gt_60,speech(very_good),o_ar_c(absent),o_ar_u(absent),ar_u(absent),ar_c(absent),static(normal),tymp(a),air(mild),boneAbnormal]]\\n', '[p130,cochlear_age,[age_gt_60,speech(normal),o_ar_c(normal),o_ar_u(normal),ar_u(normal),ar_c(normal),static(normal),tymp(a),air(mild)]]\\n', '[p131,conductive_fixation,[airBoneGap,bone(normal),air(mild),o_ar_c(absent),o_ar_u(absent),ar_u(absent),ar_c(absent),static(normal),tymp(as)]]\\n', '[p132,cochlear_age,[m_sn_gt_4k,age_gt_60,speech(good),o_ar_c(normal),o_ar_u(normal),ar_u(normal),ar_c(elevated),static(normal),tymp(a),air(normal)]]\\n', '[p133,cochlear_unknown,[mod_sn_gt_3k,air(mild),speech(good),o_ar_c(normal),o_ar_u(normal),ar_u(normal),ar_c(normal),static(normal),tymp(a)]]\\n', '[p134,conductive_fixation,[speech(poor),airBoneGap,bone(normal),air(severe),o_ar_c(absent),o_ar_u(absent),ar_u(absent),ar_c(absent),static(normal),tymp(as)]]\\n', '[p135,conductive_fixation,[speech(poor),airBoneGap,bone(normal),air(severe),o_ar_c(absent),o_ar_u(absent),ar_u(absent),ar_c(absent),static(normal),tymp(as)]]\\n', '[p136,cochlear_age,[age_gt_60,speech(very_good),o_ar_c(normal),o_ar_u(normal),ar_u(normal),ar_c(normal),static(normal),tymp(a),air(mild)]]\\n', '[p137,normal_ear,[air(normal),speech(normal),o_ar_c(normal),o_ar_u(normal),ar_u(normal),ar_c(normal),static(normal),tymp(a)]]\\n', '[p138,cochlear_unknown,[mod_sn_gt_1k,speech(good),o_ar_c(normal),o_ar_u(normal),ar_u(normal),ar_c(normal),static(normal),tymp(a),air(mild),boneAbnormal]]\\n', '[p139,cochlear_age_and_noise,[history(noise),age_gt_60,speech(very_poor),o_ar_c(elevated),o_ar_u(elevated),ar_u(normal),ar_c(normal),static(normal),tymp(a),air(moderate),boneAbnormal]]\\n', '[p140,cochlear_age_and_noise,[history(noise),age_gt_60,speech(very_poor),o_ar_c(normal),o_ar_u(normal),ar_u(elevated),ar_c(elevated),static(normal),tymp(a),air(mild),boneAbnormal]]\\n', '[p141,possible_brainstem_disorder,[o_ar_u(normal),o_ar_c(normal),ar_c(normal),ar_u(normal),tymp(a),speech(normal),air(normal),history(roaring),history(nausea),history(dizziness),waveform_ItoV(prolonged)]]\\n', '[p142,cochlear_age,[age_gt_60,speech(good),o_ar_c(normal),o_ar_u(normal),ar_u(normal),ar_c(normal),static(normal),tymp(a),air(mild)]]\\n', '[p143,cochlear_age,[age_gt_60,speech(very_good),o_ar_c(normal),o_ar_u(normal),ar_u(normal),ar_c(normal),static(normal),tymp(a),air(mild)]]\\n', '[p144,cochlear_poss_noise,[mod_sn_gt_3k,notch_at_4k,history(noise),speech(normal),o_ar_c(normal),o_ar_u(normal),ar_u(normal),ar_c(normal),static(normal),tymp(a),air(normal)]]\\n', '[p145,cochlear_age,[age_gt_60,speech(normal),o_ar_c(normal),o_ar_u(normal),ar_u(normal),ar_c(normal),static(normal),tymp(a),air(mild)]]\\n', '[p146,cochlear_poss_noise,[m_sn_gt_3k,notch_at_4k,history(noise),speech(normal),o_ar_c(normal),o_ar_u(normal),ar_u(elevated),ar_c(normal),static(normal),tymp(a),air(normal)]]\\n', '[p147,cochlear_poss_noise,[m_sn_gt_2k,notch_at_4k,history(noise),speech(normal),o_ar_c(normal),o_ar_u(elevated),ar_u(normal),ar_c(normal),static(normal),tymp(a),air(normal)]]\\n', '[p148,cochlear_unknown,[m_sn_lt_2k,speech(normal),o_ar_c(normal),o_ar_u(normal),ar_u(normal),ar_c(normal),static(normal),tymp(a),air(mild),bone(mild)]]\\n', '[p149,cochlear_unknown,[m_sn_lt_3k,bone(mild),speech(normal),o_ar_c(normal),o_ar_u(normal),ar_u(normal),ar_c(normal),static(normal),tymp(a),air(mild)]]\\n', '[p150,possible_menieres,[m_sn_gt_1k,o_ar_u(normal),o_ar_c(normal),ar_u(normal),ar_c(normal),tymp(a),speech(normal),air(normal),history(recruitment),history(dizziness),history(fluctuating)]]\\n', '[p151,normal_ear,[history(nausea),history(dizziness),bone(normal),age_gt_60,speech(normal),o_ar_c(normal),o_ar_u(normal),ar_u(normal),ar_c(normal),static(normal),tymp(a),air(normal)]]\\n', '[p152,cochlear_poss_noise,[m_sn_gt_2k,notch_at_4k,history(noise),speech(normal),o_ar_c(normal),o_ar_u(normal),ar_u(normal),ar_c(normal),static(normal),tymp(a),air(normal)]]\\n', '[p153,cochlear_poss_noise,[mod_sn_gt_2k,notch_at_4k,history(noise),speech(good),o_ar_c(normal),o_ar_u(normal),ar_u(normal),ar_c(normal),static(normal),tymp(a),air(normal)]]\\n', '[p154,cochlear_age_and_noise,[m_m_sn_gt_1k,static(normal),bone(unmeasured),history(noise),age_gt_60,o_ar_u(normal),o_ar_c(elevated),ar_u(normal),ar_c(normal),tymp(a),speech(poor),air(mild),history(nausea),history(vomiting),history(roaring)]]\\n', '[p155,cochlear_unknown,[history(roaring),history(nausea),history(vomiting),history(dizziness),history(noise),m_sn_gt_3k,speech(normal),o_ar_c(normal),o_ar_u(normal),ar_u(normal),ar_c(normal),static(normal),tymp(a),air(mild)]]\\n', '[p156,cochlear_age,[m_sn_gt_4k,age_gt_60,speech(normal),o_ar_c(normal),o_ar_u(normal),ar_u(normal),ar_c(normal),static(normal),tymp(a),air(normal)]]\\n', '[p157,normal_ear,[history(noise),air(normal),bone(normal),speech(normal),o_ar_c(normal),o_ar_u(normal),ar_u(normal),ar_c(normal),static(normal),tymp(a)]]\\n', '[p158,cochlear_age_and_noise,[notch_4k,history(noise),m_m_sn_gt_1k,age_gt_60,speech(very_poor),o_ar_c(normal),o_ar_u(normal),ar_u(normal),ar_c(normal),static(normal),tymp(a),air(mild)]]\\n', '[p159,cochlear_age_and_noise,[history(noise),m_m_sn_gt_1k,age_gt_60,speech(very_poor),o_ar_c(normal),o_ar_u(normal),ar_u(normal),ar_c(normal),static(normal),tymp(a),air(mild)]]\\n', '[p160,cochlear_age_and_noise,[notch_4k,history(noise),m_s_sn,age_gt_60,o_ar_c(normal),o_ar_u(normal),ar_u(normal),ar_c(normal),static(normal),tymp(a),air(mild)]]\\n', '[p161,cochlear_age_and_noise,[notch_4k,history(noise),m_m_sn,age_gt_60,o_ar_c(normal),o_ar_u(normal),ar_u(normal),ar_c(normal),static(normal),tymp(a),air(mild)]]\\n', '[p162,cochlear_age,[m_m_gt_2k,bone(mild),age_gt_60,speech(good),o_ar_c(normal),o_ar_u(absent),ar_u(normal),ar_c(absent),static(normal),tymp(a),air(mild)]]\\n', '[p163,cochlear_age,[m_sn_gt_1k,bone(mild),age_gt_60,speech(very_good),o_ar_c(absent),o_ar_u(normal),ar_u(absent),ar_c(normal),static(normal),tymp(a),air(mild)]]\\n', '[p164,cochlear_age,[m_m_sn,bone(unmeasured),age_gt_60,speech(unmeasured),o_ar_c(normal),o_ar_u(normal),ar_u(elevated),ar_c(normal),static(normal),tymp(a),air(mild),boneAbnormal]]\\n', '[p165,cochlear_age,[o_ar_c(normal),bone(unmeasured),age_gt_60,speech(unmeasured),o_ar_c(normal),o_ar_u(elevated),ar_u(normal),ar_c(normal),static(normal),tymp(a),air(mild)]]\\n', '[p166,mixed_cochlear_unk_fixation,[speech(normal),air(moderate),speech(normal),airBoneGap,bone(mild),air(mild),o_ar_c(absent),o_ar_u(absent),ar_u(absent),ar_c(absent),static(normal),tymp(as)]]\\n', '[p167,mixed_cochlear_unk_fixation,[m_at_2k,speech(normal),airBoneGap,bone(mild),air(moderate),o_ar_c(absent),o_ar_u(absent),ar_u(absent),ar_c(absent),static(normal),tymp(as)]]\\n', '[p168,cochlear_unknown,[history(roaring),history(nausea),history(dizziness),m_sn_gt_3k,speech(normal),o_ar_c(normal),o_ar_u(normal),ar_u(normal),ar_c(normal),static(normal),tymp(a),air(normal),bone(unmeasured)]]\\n', '[p169,cochlear_unknown,[bone(unmeasured),history(roaring),history(nausea),history(dizziness),m_sn_gt_4k,speech(normal),o_ar_c(normal),o_ar_u(normal),ar_u(normal),ar_c(normal),static(normal),tymp(a),air(normal)]]\\n', '[p170,cochlear_age,[history(dizziness),m_m_sn,bone(mild),age_gt_60,speech(good),o_ar_c(normal),o_ar_u(elevated),ar_u(normal),ar_c(normal),static(normal),tymp(a),air(mild),boneAbnormal]]\\n', '[p171,cochlear_age,[history(dizziness),m_m_sn,bone(mild),age_gt_60,speech(good),o_ar_c(normal),o_ar_u(normal),ar_u(elevated),ar_c(normal),static(normal),tymp(a),air(mild),boneAbnormal]]\\n', '[p172,cochlear_unknown,[notch_4k,mod_sn_gt_2k,speech(good),o_ar_c(normal),o_ar_u(normal),ar_u(normal),ar_c(normal),static(normal),tymp(a),air(normal),bone(unmeasured)]]\\n', '[p173,cochlear_unknown,[bone(unmeasured),notch_4k,m_s_gt_500,air(mild),speech(poor),o_ar_c(normal),o_ar_u(normal),ar_u(normal),ar_c(normal),static(normal),tymp(a)]]\\n', '[p174,cochlear_unknown,[bone(unmeasured),history(noise),mod_sn_gt_4k,air(normal),speech(normal),o_ar_c(normal),o_ar_u(normal),ar_u(normal),ar_c(normal),static(normal),tymp(a)]]\\n', '[p175,cochlear_unknown,[bone(unmeasured),history(noise),m_m_gt_2k,air(normal),speech(normal),o_ar_c(normal),o_ar_u(normal),ar_u(normal),ar_c(normal),static(normal),tymp(a)]]\\n', '[p176,cochlear_poss_noise,[bone(unmeasured),m_sn_gt_1k,notch_at_4k,history(noise),speech(very_good),o_ar_c(normal),o_ar_u(elevated),ar_u(elevated),ar_c(normal),static(normal),tymp(a),air(normal)]]\\n', '[p177,mixed_cochlear_unk_discontinuity,[o_ar_c(absent),o_ar_u(absent),ar_c(absent),ar_u(elevated),static(normal),tymp(ad),speech(normal),air(normal),bone(normal),history(ringing),history(dizziness),history(noise),m_sn_gt_2k]]\\n', '[p178,cochlear_age,[history(noise),m_s_sn_gt_3k,bone(unmeasured),age_gt_60,speech(very_good),o_ar_c(normal),o_ar_u(normal),ar_u(normal),ar_c(normal),static(normal),tymp(a),air(mild)]]\\n', '[p179,cochlear_age,[m_s_sn_gt_4k,history(noise),bone(unmeasured),age_gt_60,speech(normal),o_ar_c(normal),o_ar_u(normal),ar_u(normal),ar_c(normal),static(normal),tymp(a),air(normal)]]\\n', '[p180,cochlear_unknown,[bone(unmeasured),mod_sn_gt_3k,notch_4k,speech(normal),o_ar_c(normal),o_ar_u(normal),ar_u(normal),ar_c(normal),static(normal),tymp(a),air(normal)]]\\n', '[p181,cochlear_unknown,[bone(unmeasured),m_sn_gt_2k,notch_4k,speech(normal),o_ar_c(normal),o_ar_u(normal),ar_u(normal),ar_c(normal),static(normal),tymp(a),air(normal)]]\\n', '[p182,cochlear_unknown,[o_ar_c(elevated),o_ar_u(normal),ar_c(elevated),ar_u(normal),static(normal),tymp(a),speech(normal),air(mild),bone(unmeasured)]]\\n', '[p183,cochlear_unknown,[o_ar_c(elevated),o_ar_u(normal),ar_c(elevated),ar_u(normal),static(normal),tymp(a),speech(good),air(mild),bone(unmeasured)]]\\n', '[p184,cochlear_age,[bone(unmeasured),age_gt_60,speech(poor),o_ar_c(normal),o_ar_u(normal),ar_u(normal),ar_c(normal),static(normal),tymp(a),air(mild)]]\\n', '[p185,cochlear_age,[bone(unmeasured),age_gt_60,speech(poor),o_ar_c(normal),o_ar_u(normal),ar_u(normal),ar_c(normal),static(normal),tymp(a),air(mild)]]\\n', '[p186,possible_menieres,[static(normal),bone(mild),m_sn_lt_1k,o_ar_u(absent),o_ar_c(absent),ar_u(elevated),ar_c(absent),tymp(a),speech(normal),air(mild),history(fluctuating)]]\\n', '[p187,cochlear_unknown,[m_m_sn_gt_500,speech(poor),o_ar_c(normal),o_ar_u(normal),ar_u(normal),ar_c(elevated),static(normal),tymp(a),air(mild),bone(mild)]]\\n', '[p188,cochlear_unknown,[bone(mild),m_m_sn_gt_1k,air(mild),speech(poor),o_ar_c(elevated),o_ar_u(normal),ar_u(normal),ar_c(normal),static(normal),tymp(a)]]\\n', '[p189,conductive_fixation,[speech(very_poor),airBoneGap,bone(normal),air(severe),o_ar_c(absent),o_ar_u(absent),ar_u(absent),ar_c(absent),static(normal),tymp(as)]]\\n', '[p190,conductive_fixation,[speech(normal),airBoneGap,bone(normal),air(mild),o_ar_c(absent),o_ar_u(absent),ar_u(absent),ar_c(absent),static(normal),tymp(as)]]\\n', '[p191,normal_ear,[age_gt_60,air(normal),bone(normal),speech(very_good),o_ar_c(elevated),o_ar_u(absent),ar_u(normal),ar_c(absent),static(normal),tymp(a)]]\\n', '[p192,cochlear_age_and_noise,[notch_4k,history(noise),m_m_sn_gt_1k,age_gt_60,speech(unmeasured),o_ar_c(normal),o_ar_u(normal),ar_u(normal),ar_c(normal),static(normal),tymp(a),air(mild),bone(unmeasured)]]\\n', '[p193,cochlear_age_and_noise,[notch_4k,history(noise),m_sn_gt_1k,age_gt_60,speech(good),o_ar_c(normal),o_ar_u(normal),ar_u(normal),ar_c(normal),static(normal),tymp(a),air(normal),bone(unmeasured)]]\\n', '[p194,cochlear_age,[m_m_sn,bone(unmeasured),age_gt_60,speech(good),o_ar_c(normal),o_ar_u(elevated),ar_u(normal),ar_c(normal),static(normal),tymp(a),air(mild)]]\\n', '[p195,cochlear_age,[m_m_sn,bone(unmeasured),age_gt_60,speech(very_good),o_ar_c(normal),o_ar_u(normal),ar_u(elevated),ar_c(normal),static(normal),tymp(a),air(mild)]]\\n', '[p196,cochlear_age,[notch_4k,m_m_sn_gt_2k,bone(mild),age_gt_60,speech(very_good),o_ar_c(normal),o_ar_u(absent),ar_u(normal),ar_c(absent),static(normal),tymp(a),air(mild),boneAbnormal]]\\n', '[p197,mixed_cochlear_age_otitis_media,[o_ar_c(absent),ar_c(normal),m_s_sn_gt_2k,age_gt_60,o_ar_u(normal),ar_u(absent),static(normal),tymp(c),speech(very_good),air(mild),bone(mild)]]\\n', '[p198,possible_brainstem_disorder,[m_sn_gt_2k,bone(unmeasured),o_ar_u(normal),o_ar_c(normal),ar_c(normal),ar_u(normal),tymp(a),speech(normal),air(normal),history(nausea),bser(degraded)]]\\n', '[p199,cochlear_age,[m_sn_gt_2k,bone(unmeasured),age_gt_60,speech(very_good),o_ar_c(normal),o_ar_u(normal),ar_u(normal),ar_c(normal),static(normal),tymp(a),air(mild)]]\\n', '[p200,cochlear_age,[m_sn_gt_2k,bone(unmeasured),age_gt_60,speech(normal),o_ar_c(normal),o_ar_u(normal),ar_u(normal),ar_c(normal),static(normal),tymp(a),air(normal)]]\\n', '\\n', '\\n']\n"
          ],
          "name": "stdout"
        }
      ]
    },
    {
      "cell_type": "markdown",
      "metadata": {
        "id": "YnKgQ4lO7kJf"
      },
      "source": [
        "Because the data present in raw form and data is not in the form of working so modifieing the data so that we can work"
      ]
    },
    {
      "cell_type": "code",
      "metadata": {
        "id": "Reny5DAXYvgk",
        "colab": {
          "base_uri": "https://localhost:8080/"
        },
        "outputId": "5cb15a31-ad2b-4a39-bbe0-93c631bc872b"
      },
      "source": [
        "res=[]\n",
        "count=0\n",
        "tymp=[]\n",
        "tymp1=[]\n",
        "air1=[]\n",
        "air=[]\n",
        "target=[]\n",
        "ar_c=[]\n",
        "ar_u=[]\n",
        "o_ar_c=[]\n",
        "o_ar_u=[]\n",
        "speech=[]\n",
        "static=[]\n",
        "ar_c1=[]\n",
        "ar_u1=[]\n",
        "o_ar_c1=[]\n",
        "o_ar_u1=[]\n",
        "speech1=[]\n",
        "static1=[]\n",
        "s=0\n",
        "n=0\n",
        "\n",
        "history=[]\n",
        "history1=[]\n",
        "bone=[]\n",
        "bone1=[]\n",
        "\n",
        "for line in Lines:\n",
        "    \n",
        "    tymp1=['null']\n",
        "    air1=['null']\n",
        "    ar_c1=['null']\n",
        "    ar_u1=['null']\n",
        "    o_ar_c1=['null']\n",
        "    o_ar_u1=['null']\n",
        "    speech1=['null']\n",
        "    static1=['null']\n",
        "    r=line.strip()\n",
        "    r=r.replace('[','')\n",
        "    r=r.replace(']','')\n",
        "    \n",
        "   # extracting the value for tymp feature\n",
        "    res=r.split(\",\")\n",
        "    tymp1=[string for string in res if 'tymp(' in string]\n",
        "    tymp.append(tymp1[0])\n",
        "    #\n",
        "    #extracting the data for air feature\n",
        "    air1=[string for string in res if 'air(' in string]\n",
        "    air.append(air1[0])\n",
        "\n",
        "\n",
        "    #extracting the data for o_ar_c feature\n",
        "    o_ar_c1=[string for string in res if 'o_ar_c(' in string]\n",
        "    if o_ar_c1!=[]:\n",
        "      o_ar_c.append(o_ar_c1[0])\n",
        "\n",
        "    else:\n",
        "      o_ar_c.append('null')\n",
        "    \n",
        "    #extracting the data for ar_c feature\n",
        "    ar_c1=[string for string in res if 'ar_c(' in string]\n",
        "    \n",
        "    if o_ar_c1!=[]:\n",
        "      s=ar_c1.index(o_ar_c1[0])\n",
        "      del ar_c1[s]\n",
        "    if ar_c1!=[]:\n",
        "      ar_c.append(ar_c1[0])\n",
        "    else:\n",
        "      ar_c.append('null')\n",
        "    \n",
        "   #extracting the data for o_ar_u feature\n",
        "    o_ar_u1=[string for string in res if 'o_ar_u(' in string]\n",
        "  \n",
        "    if o_ar_u1!=[]:\n",
        "      o_ar_u.append(o_ar_u1[0])\n",
        "    else:\n",
        "      o_ar_u.append('null')\n",
        "\n",
        "   \n",
        "    \n",
        "   \n",
        "    #extracting the data for ar_u feature\n",
        "    ar_u1=[string for string in res if 'ar_u(' in string]\n",
        "    if o_ar_u1!=[]:\n",
        "      s=ar_u1.index(o_ar_u1[0])\n",
        "      del ar_u1[s]\n",
        "\n",
        "    if ar_u1!=[]:\n",
        "      \n",
        "      ar_u.append(ar_u1[0])\n",
        "    else:\n",
        "      ar_u.append('null')\n",
        "\n",
        "\n",
        "    #extracting the data for speech feature\n",
        "    speech1=[string for string in res if 'speech(' in string]\n",
        "    if speech1!=[]:\n",
        "      speech.append(speech1[0])\n",
        "    else:\n",
        "      speech.append('null')\n",
        "    #extracting the data for static feature\n",
        "    static1=[string for string in res if 'static(' in string]\n",
        "    \n",
        "    if static1!=[]:\n",
        "      static.append(static1[0])\n",
        "    else:\n",
        "      static.append('null')\n",
        "    history1=[string for string in res if 'history(' in string]\n",
        "    if history1!=[]:\n",
        "      history.append(history1)\n",
        "    else:\n",
        "      history.append('null')\n",
        "\n",
        "    #extracting the data for bone feature\n",
        "    bone1=[string for string in res if 'bone(' in string]\n",
        "    if bone1!=[]:\n",
        "      bone.append(bone1[0])\n",
        "    else:\n",
        "      bone.append('null')\n",
        "    \n",
        "    target.append(res[1])\n",
        "    n=n+1\n",
        "    if n==200:\n",
        "      break\n",
        "for l in range(200):\n",
        "  print(tymp[l],air[l],ar_c[l],o_ar_c[l],ar_u[l],o_ar_u[l],speech[l],static[l],bone[l],target[l])"
      ],
      "execution_count": 199,
      "outputs": [
        {
          "output_type": "stream",
          "text": [
            "tymp(a) air(mild) ar_c(normal) o_ar_c(normal) ar_u(normal) o_ar_u(normal) speech(normal) static(normal) null cochlear_unknown\n",
            "tymp(a) air(moderate) ar_c(normal) o_ar_c(normal) ar_u(normal) o_ar_u(normal) speech(normal) static(normal) null cochlear_unknown\n",
            "tymp(as) air(mild) null null ar_u(absent) o_ar_u(absent) speech(normal) static(normal) bone(mild) mixed_cochlear_age_fixation\n",
            "tymp(b) air(mild) null null ar_u(absent) o_ar_u(absent) speech(normal) static(normal) bone(mild) mixed_cochlear_age_otitis_media\n",
            "tymp(a) air(mild) ar_c(normal) o_ar_c(normal) ar_u(normal) o_ar_u(normal) speech(good) static(normal) bone(mild) cochlear_age\n",
            "tymp(a) air(mild) ar_c(normal) o_ar_c(normal) ar_u(normal) o_ar_u(normal) speech(very_good) static(normal) bone(mild) cochlear_age\n",
            "tymp(a) air(mild) ar_c(normal) o_ar_c(normal) ar_u(normal) o_ar_u(normal) speech(good) static(normal) bone(mild) cochlear_unknown\n",
            "tymp(a) air(mild) ar_c(normal) o_ar_c(normal) ar_u(normal) o_ar_u(normal) speech(very_good) static(normal) bone(mild) cochlear_unknown\n",
            "tymp(a) air(severe) null null null null null static(normal) null cochlear_unknown\n",
            "tymp(a) air(mild) ar_c(elevated) o_ar_c(normal) ar_u(absent) o_ar_u(absent) speech(good) static(normal) bone(mild) cochlear_age\n",
            "tymp(a) air(mild) ar_c(normal) o_ar_c(normal) ar_u(absent) o_ar_u(absent) speech(very_good) static(normal) bone(mild) cochlear_age\n",
            "tymp(a) air(mild) ar_c(normal) o_ar_c(normal) ar_u(normal) o_ar_u(normal) speech(good) static(normal) null cochlear_age\n",
            "tymp(a) air(severe) ar_c(normal) o_ar_c(normal) ar_u(normal) o_ar_u(normal) speech(very_poor) static(normal) bone(moderate) cochlear_unknown\n",
            "tymp(a) air(normal) ar_c(elevated) o_ar_c(elevated) ar_u(normal) o_ar_u(elevated) speech(normal) static(normal) bone(mild) normal_ear\n",
            "tymp(a) air(mild) ar_c(normal) o_ar_c(normal) ar_u(normal) o_ar_u(elevated) speech(very_good) static(normal) bone(mild) cochlear_age\n",
            "tymp(a) air(mild) ar_c(normal) o_ar_c(normal) ar_u(elevated) o_ar_u(elevated) speech(good) static(normal) bone(mild) cochlear_age\n",
            "tymp(a) air(mild) ar_c(normal) o_ar_c(normal) ar_u(normal) o_ar_u(elevated) speech(very_good) static(normal) bone(mild) cochlear_poss_noise\n",
            "tymp(a) air(mild) ar_c(normal) o_ar_c(normal) ar_u(elevated) o_ar_u(normal) speech(normal) static(normal) bone(mild) cochlear_poss_noise\n",
            "tymp(a) air(normal) ar_c(normal) o_ar_c(normal) ar_u(normal) o_ar_u(elevated) speech(normal) static(normal) null normal_ear\n",
            "tymp(a) air(normal) ar_c(normal) o_ar_c(normal) ar_u(elevated) o_ar_u(normal) speech(normal) static(normal) null cochlear_unknown\n",
            "tymp(a) air(mild) ar_c(normal) o_ar_c(normal) ar_u(normal) o_ar_u(normal) speech(very_poor) static(normal) null cochlear_age_and_noise\n",
            "tymp(a) air(mild) ar_c(normal) o_ar_c(normal) ar_u(normal) o_ar_u(normal) speech(normal) static(normal) null cochlear_age_and_noise\n",
            "tymp(a) air(normal) ar_c(normal) o_ar_c(normal) ar_u(normal) o_ar_u(normal) speech(good) static(normal) null cochlear_poss_noise\n",
            "tymp(a) air(normal) ar_c(normal) o_ar_c(normal) ar_u(normal) o_ar_u(normal) speech(normal) static(normal) bone(normal) normal_ear\n",
            "tymp(a) air(moderate) ar_c(elevated) o_ar_c(normal) ar_u(elevated) o_ar_u(normal) speech(very_poor) static(normal) null cochlear_unknown\n",
            "tymp(a) air(normal) ar_c(normal) o_ar_c(normal) ar_u(normal) o_ar_u(elevated) speech(very_good) static(normal) bone(normal) cochlear_unknown\n",
            "tymp(a) air(normal) ar_c(normal) o_ar_c(normal) ar_u(elevated) o_ar_u(normal) speech(very_good) static(normal) bone(normal) cochlear_unknown\n",
            "tymp(a) air(mild) ar_c(normal) o_ar_c(normal) ar_u(normal) o_ar_u(normal) speech(normal) static(normal) null cochlear_poss_noise\n",
            "tymp(a) air(mild) ar_c(absent) o_ar_c(elevated) ar_u(absent) o_ar_u(normal) speech(very_poor) static(normal) bone(mild) acoustic_neuroma\n",
            "tymp(a) air(mild) ar_c(elevated) o_ar_c(absent) ar_u(normal) o_ar_u(absent) speech(normal) static(normal) bone(mild) cochlear_unknown\n",
            "tymp(a) air(mild) ar_c(normal) o_ar_c(elevated) ar_u(normal) o_ar_u(normal) speech(normal) static(normal) null cochlear_poss_noise\n",
            "tymp(a) air(normal) ar_c(elevated) o_ar_c(normal) ar_u(normal) o_ar_u(normal) speech(normal) static(normal) null normal_ear\n",
            "tymp(a) air(normal) ar_c(normal) o_ar_c(elevated) ar_u(elevated) o_ar_u(normal) speech(good) static(normal) null cochlear_unknown\n",
            "tymp(a) air(normal) ar_c(elevated) o_ar_c(normal) ar_u(elevated) o_ar_u(normal) speech(good) static(normal) null cochlear_unknown\n",
            "tymp(b) air(moderate) ar_c(absent) o_ar_c(absent) ar_u(absent) o_ar_u(normal) speech(very_good) static(normal) bone(mild) mixed_cochlear_unk_ser_om\n",
            "tymp(a) air(mild) ar_c(absent) o_ar_c(absent) ar_u(normal) o_ar_u(absent) speech(normal) static(normal) bone(mild) cochlear_unknown\n",
            "tymp(a) air(mild) ar_c(absent) o_ar_c(absent) ar_u(absent) o_ar_u(absent) speech(very_good) static(normal) bone(mild) cochlear_age_and_noise\n",
            "tymp(a) air(normal) ar_c(absent) o_ar_c(absent) ar_u(elevated) o_ar_u(absent) speech(normal) static(normal) bone(normal) normal_ear\n",
            "tymp(ad) air(severe) ar_c(absent) o_ar_c(absent) ar_u(absent) o_ar_u(elevated) speech(very_poor) static(normal) bone(mild) conductive_discontinuity\n",
            "tymp(a) air(normal) ar_c(normal) o_ar_c(normal) ar_u(normal) o_ar_u(elevated) speech(good) static(normal) null cochlear_age\n",
            "tymp(a) air(normal) ar_c(elevated) o_ar_c(normal) ar_u(normal) o_ar_u(normal) speech(very_good) static(normal) null cochlear_age\n",
            "tymp(a) air(normal) ar_c(normal) o_ar_c(absent) ar_u(elevated) o_ar_u(absent) speech(normal) static(normal) bone(normal) normal_ear\n",
            "tymp(a) air(mild) ar_c(normal) o_ar_c(normal) ar_u(normal) o_ar_u(normal) speech(normal) static(normal) null cochlear_age\n",
            "tymp(a) air(mild) ar_c(elevated) o_ar_c(elevated) ar_u(normal) o_ar_u(elevated) speech(normal) static(normal) null cochlear_unknown\n",
            "tymp(a) air(mild) ar_c(elevated) o_ar_c(elevated) ar_u(elevated) o_ar_u(normal) speech(normal) static(normal) null cochlear_unknown\n",
            "tymp(a) air(moderate) ar_c(absent) o_ar_c(normal) ar_u(absent) o_ar_u(elevated) speech(very_poor) static(normal) bone(moderate) retrocochlear_unknown\n",
            "tymp(as) air(mild) ar_c(absent) o_ar_c(absent) ar_u(absent) o_ar_u(absent) null static(normal) bone(normal) conductive_fixation\n",
            "tymp(a) air(mild) ar_c(absent) o_ar_c(absent) ar_u(absent) o_ar_u(elevated) speech(normal) static(normal) bone(mild) cochlear_unknown\n",
            "tymp(a) air(normal) ar_c(absent) o_ar_c(absent) ar_u(elevated) o_ar_u(absent) speech(normal) static(normal) bone(normal) normal_ear\n",
            "tymp(a) air(moderate) ar_c(normal) o_ar_c(normal) ar_u(normal) o_ar_u(elevated) speech(very_poor) null null cochlear_age\n",
            "tymp(a) air(moderate) ar_c(normal) o_ar_c(normal) ar_u(elevated) o_ar_u(normal) speech(very_poor) null null cochlear_age\n",
            "tymp(a) air(normal) ar_c(elevated) o_ar_c(normal) ar_u(normal) o_ar_u(normal) speech(good) static(normal) null cochlear_age\n",
            "tymp(a) air(normal) ar_c(absent) o_ar_c(absent) ar_u(elevated) o_ar_u(absent) speech(normal) static(normal) bone(normal) normal_ear\n",
            "tymp(ad) air(moderate) ar_c(absent) o_ar_c(absent) ar_u(absent) o_ar_u(elevated) speech(good) static(normal) bone(normal) conductive_discontinuity\n",
            "tymp(a) air(normal) ar_c(elevated) o_ar_c(elevated) ar_u(absent) o_ar_u(elevated) speech(normal) static(normal) null normal_ear\n",
            "tymp(a) air(normal) ar_c(elevated) o_ar_c(elevated) ar_u(elevated) o_ar_u(absent) speech(normal) static(normal) bone(normal) cochlear_unknown\n",
            "tymp(a) air(mild) ar_c(normal) o_ar_c(normal) ar_u(normal) o_ar_u(normal) speech(good) static(normal) null cochlear_unknown\n",
            "tymp(a) air(mild) ar_c(normal) o_ar_c(normal) ar_u(normal) o_ar_u(elevated) speech(very_good) null null cochlear_age\n",
            "tymp(a) air(mild) ar_c(normal) o_ar_c(normal) ar_u(elevated) o_ar_u(elevated) speech(poor) static(normal) null cochlear_age\n",
            "tymp(a) air(normal) ar_c(normal) o_ar_c(elevated) ar_u(elevated) o_ar_u(normal) speech(very_good) static(normal) null cochlear_poss_noise\n",
            "tymp(a) air(normal) ar_c(elevated) o_ar_c(normal) ar_u(normal) o_ar_u(elevated) speech(normal) static(normal) null cochlear_poss_noise\n",
            "tymp(a) air(mild) ar_c(normal) o_ar_c(normal) ar_u(normal) o_ar_u(normal) speech(good) static(normal) null cochlear_age_and_noise\n",
            "tymp(a) air(mild) ar_c(normal) o_ar_c(normal) ar_u(normal) o_ar_u(normal) speech(poor) static(normal) null cochlear_age_and_noise\n",
            "tymp(a) air(normal) ar_c(elevated) o_ar_c(normal) ar_u(elevated) o_ar_u(normal) speech(normal) static(normal) bone(normal) cochlear_unknown\n",
            "tymp(a) air(normal) ar_c(normal) o_ar_c(elevated) ar_u(normal) o_ar_u(elevated) speech(normal) static(normal) bone(normal) normal_ear\n",
            "tymp(a) air(mild) ar_c(absent) o_ar_c(elevated) ar_u(normal) o_ar_u(absent) speech(good) static(normal) null cochlear_unknown\n",
            "tymp(a) air(normal) ar_c(elevated) o_ar_c(normal) ar_u(normal) o_ar_u(absent) speech(normal) static(normal) null normal_ear\n",
            "tymp(a) air(mild) ar_c(absent) o_ar_c(absent) null o_ar_u(absent) speech(good) static(normal) null cochlear_age_and_noise\n",
            "tymp(a) air(mild) ar_c(absent) o_ar_c(absent) ar_u(absent) o_ar_u(absent) speech(very_good) static(normal) bone(mild) cochlear_age_and_noise\n",
            "tymp(a) air(mild) ar_c(elevated) o_ar_c(elevated) ar_u(elevated) o_ar_u(normal) speech(poor) static(normal) bone(mild) cochlear_unknown\n",
            "tymp(a) air(mild) ar_c(elevated) o_ar_c(elevated) ar_u(normal) o_ar_u(elevated) speech(poor) static(normal) bone(mild) cochlear_unknown\n",
            "tymp(a) air(normal) ar_c(absent) o_ar_c(normal) ar_u(normal) o_ar_u(absent) speech(normal) static(normal) bone(normal) normal_ear\n",
            "tymp(a) air(normal) ar_c(normal) o_ar_c(elevated) ar_u(elevated) o_ar_u(normal) speech(normal) static(normal) bone(normal) cochlear_age\n",
            "tymp(a) air(normal) ar_c(elevated) o_ar_c(normal) ar_u(normal) o_ar_u(elevated) speech(good) static(normal) bone(normal) cochlear_age\n",
            "tymp(a) air(mild) ar_c(absent) o_ar_c(absent) ar_u(elevated) o_ar_u(absent) speech(poor) static(normal) bone(mild) cochlear_age_and_noise\n",
            "tymp(a) air(normal) ar_c(absent) o_ar_c(absent) ar_u(normal) o_ar_u(absent) speech(normal) static(normal) bone(normal) normal_ear\n",
            "tymp(a) air(mild) ar_c(absent) o_ar_c(absent) ar_u(absent) o_ar_u(normal) speech(normal) static(normal) bone(mild) bells_palsy\n",
            "tymp(a) air(normal) ar_c(normal) o_ar_c(normal) ar_u(normal) o_ar_u(elevated) speech(very_good) static(normal) null cochlear_noise_and_heredity\n",
            "tymp(a) air(normal) ar_c(normal) o_ar_c(normal) ar_u(elevated) o_ar_u(normal) speech(good) static(normal) null cochlear_noise_and_heredity\n",
            "tymp(a) air(normal) ar_c(absent) o_ar_c(absent) ar_u(normal) o_ar_u(absent) speech(normal) static(normal) bone(normal) cochlear_unknown\n",
            "tymp(b) air(moderate) ar_c(absent) o_ar_c(absent) ar_u(absent) o_ar_u(absent) speech(very_good) static(normal) bone(mild) mixed_cochlear_unk_ser_om\n",
            "tymp(as) air(mild) ar_c(absent) o_ar_c(absent) ar_u(absent) o_ar_u(absent) speech(normal) static(normal) bone(mild) mixed_cochlear_unk_fixation\n",
            "tymp(as) air(moderate) ar_c(absent) o_ar_c(absent) ar_u(absent) o_ar_u(absent) speech(very_good) static(normal) bone(mild) mixed_cochlear_unk_fixation\n",
            "tymp(a) air(mild) ar_c(normal) o_ar_c(normal) ar_u(normal) o_ar_u(normal) speech(normal) static(normal) null cochlear_age\n",
            "tymp(c) air(mild) ar_c(elevated) o_ar_c(elevated) ar_u(normal) o_ar_u(normal) speech(very_good) static(normal) bone(mild) mixed_poss_noise_om\n",
            "tymp(c) air(mild) ar_c(elevated) o_ar_c(elevated) ar_u(normal) o_ar_u(normal) speech(poor) static(normal) bone(mild) mixed_poss_noise_om\n",
            "tymp(b) air(mild) ar_c(absent) o_ar_c(absent) ar_u(absent) o_ar_u(elevated) speech(normal) static(normal) null otitis_media\n",
            "tymp(c) air(normal) ar_c(absent) o_ar_c(absent) ar_u(elevated) o_ar_u(absent) speech(normal) static(normal) null otitis_media\n",
            "tymp(a) air(mild) ar_c(elevated) o_ar_c(normal) ar_u(normal) o_ar_u(elevated) speech(good) null bone(mild) possible_menieres\n",
            "tymp(a) air(normal) ar_c(normal) o_ar_c(elevated) ar_u(elevated) o_ar_u(normal) speech(very_good) static(normal) null normal_ear\n",
            "tymp(a) air(normal) ar_c(normal) o_ar_c(normal) ar_u(normal) o_ar_u(normal) speech(normal) null null possible_brainstem_disorder\n",
            "tymp(a) air(mild) ar_c(normal) o_ar_c(normal) ar_u(normal) o_ar_u(normal) speech(normal) null null possible_menieres\n",
            "tymp(a) air(normal) ar_c(normal) o_ar_c(normal) ar_u(normal) o_ar_u(normal) speech(normal) null null cochlear_unknown\n",
            "tymp(a) air(normal) ar_c(normal) o_ar_c(normal) ar_u(normal) o_ar_u(normal) speech(normal) static(normal) null cochlear_poss_noise\n",
            "tymp(a) air(severe) ar_c(normal) o_ar_c(normal) ar_u(normal) o_ar_u(normal) speech(very_poor) static(normal) null cochlear_age_plus_poss_menieres\n",
            "tymp(a) air(mild) ar_c(normal) o_ar_c(normal) ar_u(normal) o_ar_u(normal) speech(normal) null null possible_menieres\n",
            "tymp(a) air(moderate) ar_c(normal) o_ar_c(normal) ar_u(normal) o_ar_u(normal) speech(very_poor) static(normal) bone(moderate) possible_menieres\n",
            "tymp(a) air(moderate) ar_c(elevated) o_ar_c(normal) ar_u(normal) o_ar_u(normal) speech(very_poor) static(normal) bone(unmeasured) possible_menieres\n",
            "tymp(a) air(mild) ar_c(normal) o_ar_c(normal) ar_u(normal) o_ar_u(normal) speech(normal) static(normal) null cochlear_unknown\n",
            "tymp(a) air(normal) ar_c(normal) o_ar_c(normal) ar_u(normal) o_ar_u(normal) speech(normal) static(normal) null cochlear_age\n",
            "tymp(b) air(moderate) ar_c(absent) o_ar_c(absent) ar_u(absent) o_ar_u(absent) speech(very_poor) static(normal) bone(normal) otitis_media\n",
            "tymp(b) air(severe) ar_c(absent) o_ar_c(absent) ar_u(absent) o_ar_u(elevated) speech(poor) static(normal) bone(mild) mixed_cochlear_unk_ser_om\n",
            "tymp(a) air(mild) ar_c(absent) o_ar_c(absent) ar_u(elevated) o_ar_u(absent) speech(very_good) static(normal) bone(normal) otitis_media\n",
            "tymp(b) air(moderate) ar_c(normal) o_ar_c(absent) ar_u(absent) o_ar_u(absent) speech(very_poor) static(normal) bone(mild) mixed_cochlear_age_s_om\n",
            "tymp(a) air(normal) ar_c(absent) o_ar_c(normal) ar_u(absent) o_ar_u(absent) speech(good) static(normal) bone(normal) cochlear_age\n",
            "tymp(a) air(normal) ar_c(normal) o_ar_c(normal) ar_u(normal) o_ar_u(normal) speech(normal) static(normal) bone(unmeasured) cochlear_unknown\n",
            "tymp(a) air(mild) ar_c(normal) o_ar_c(normal) ar_u(elevated) o_ar_u(elevated) speech(poor) static(normal) bone(unmeasured) cochlear_poss_noise\n",
            "tymp(a) air(normal) ar_c(normal) o_ar_c(elevated) ar_u(normal) o_ar_u(elevated) speech(very_good) static(normal) bone(normal) normal_ear\n",
            "tymp(a) air(mild) ar_c(elevated) o_ar_c(normal) ar_u(elevated) o_ar_u(normal) speech(good) static(normal) bone(mild) retrocochlear_unknown\n",
            "tymp(ad) air(mild) ar_c(absent) o_ar_c(absent) ar_u(absent) o_ar_u(elevated) speech(very_good) static(normal) bone(normal) mixed_cochlear_unk_discontinuity\n",
            "tymp(a) air(normal) ar_c(normal) o_ar_c(normal) ar_u(normal) o_ar_u(normal) speech(normal) static(normal) bone(unmeasured) cochlear_unknown\n",
            "tymp(as) air(moderate) ar_c(absent) o_ar_c(absent) ar_u(absent) o_ar_u(normal) speech(normal) static(normal) bone(mild) mixed_cochlear_unk_fixation\n",
            "tymp(a) air(normal) ar_c(absent) o_ar_c(absent) ar_u(normal) o_ar_u(absent) speech(very_good) static(normal) bone(normal) normal_ear\n",
            "tymp(a) air(mild) ar_c(absent) o_ar_c(absent) ar_u(absent) o_ar_u(elevated) speech(very_good) static(normal) bone(mild) possible_menieres\n",
            "tymp(c) air(normal) ar_c(absent) null ar_u(absent) o_ar_u(absent) speech(normal) static(normal) bone(normal) mixed_cochlear_age_otitis_media\n",
            "tymp(b) air(normal) ar_c(absent) o_ar_c(absent) ar_u(absent) o_ar_u(absent) speech(poor) static(normal) bone(normal) mixed_cochlear_age_s_om\n",
            "tymp(c) air(mild) ar_c(absent) o_ar_c(absent) ar_u(absent) o_ar_u(absent) speech(normal) static(normal) bone(normal) mixed_poss_central_om\n",
            "tymp(a) air(normal) ar_c(absent) o_ar_c(absent) ar_u(absent) o_ar_u(absent) speech(poor) static(normal) bone(normal) poss_central\n",
            "tymp(c) air(moderate) ar_c(elevated) o_ar_c(absent) ar_u(absent) o_ar_u(elevated) speech(good) static(normal) bone(mild) mixed_cochlear_age_otitis_media\n",
            "tymp(a) air(normal) ar_c(normal) o_ar_c(normal) ar_u(normal) o_ar_u(normal) speech(normal) null bone(unmeasured) possible_brainstem_disorder\n",
            "tymp(a) air(profound) null null null null null static(normal) null cochlear_unknown\n",
            "tymp(a) air(mild) ar_c(normal) o_ar_c(normal) ar_u(normal) o_ar_u(normal) speech(good) static(normal) null cochlear_age\n",
            "tymp(a) air(mild) ar_c(normal) o_ar_c(normal) ar_u(elevated) o_ar_u(elevated) speech(good) static(normal) bone(mild) cochlear_age\n",
            "tymp(a) air(mild) ar_c(normal) o_ar_c(normal) ar_u(normal) o_ar_u(normal) speech(normal) static(normal) bone(mild) cochlear_unknown\n",
            "tymp(a) air(normal) ar_c(normal) o_ar_c(normal) ar_u(normal) o_ar_u(elevated) speech(very_good) static(normal) bone(normal) cochlear_unknown\n",
            "tymp(a) air(mild) ar_c(normal) o_ar_c(normal) ar_u(normal) o_ar_u(normal) speech(normal) static(normal) null cochlear_poss_noise\n",
            "tymp(a) air(mild) ar_c(normal) o_ar_c(normal) ar_u(normal) o_ar_u(normal) speech(poor) static(normal) bone(mild) cochlear_age\n",
            "tymp(a) air(mild) ar_c(normal) o_ar_c(normal) ar_u(normal) o_ar_u(normal) speech(good) static(normal) bone(mild) cochlear_age\n",
            "tymp(a) air(mild) ar_c(absent) o_ar_c(absent) ar_u(absent) o_ar_u(absent) speech(very_good) static(normal) bone(mild) cochlear_age_and_noise\n",
            "tymp(a) air(mild) ar_c(normal) o_ar_c(normal) ar_u(normal) o_ar_u(normal) speech(normal) static(normal) null cochlear_age\n",
            "tymp(as) air(mild) ar_c(absent) o_ar_c(absent) ar_u(absent) o_ar_u(absent) null static(normal) bone(normal) conductive_fixation\n",
            "tymp(a) air(normal) ar_c(elevated) o_ar_c(normal) ar_u(normal) o_ar_u(normal) speech(good) static(normal) null cochlear_age\n",
            "tymp(a) air(mild) ar_c(normal) o_ar_c(normal) ar_u(normal) o_ar_u(normal) speech(good) static(normal) null cochlear_unknown\n",
            "tymp(as) air(severe) ar_c(absent) o_ar_c(absent) ar_u(absent) o_ar_u(absent) speech(poor) static(normal) bone(normal) conductive_fixation\n",
            "tymp(as) air(severe) ar_c(absent) o_ar_c(absent) ar_u(absent) o_ar_u(absent) speech(poor) static(normal) bone(normal) conductive_fixation\n",
            "tymp(a) air(mild) ar_c(normal) o_ar_c(normal) ar_u(normal) o_ar_u(normal) speech(very_good) static(normal) null cochlear_age\n",
            "tymp(a) air(normal) ar_c(normal) o_ar_c(normal) ar_u(normal) o_ar_u(normal) speech(normal) static(normal) null normal_ear\n",
            "tymp(a) air(mild) ar_c(normal) o_ar_c(normal) ar_u(normal) o_ar_u(normal) speech(good) static(normal) null cochlear_unknown\n",
            "tymp(a) air(moderate) ar_c(normal) o_ar_c(elevated) ar_u(normal) o_ar_u(elevated) speech(very_poor) static(normal) null cochlear_age_and_noise\n",
            "tymp(a) air(mild) ar_c(elevated) o_ar_c(normal) ar_u(elevated) o_ar_u(normal) speech(very_poor) static(normal) null cochlear_age_and_noise\n",
            "tymp(a) air(normal) ar_c(normal) o_ar_c(normal) ar_u(normal) o_ar_u(normal) speech(normal) null null possible_brainstem_disorder\n",
            "tymp(a) air(mild) ar_c(normal) o_ar_c(normal) ar_u(normal) o_ar_u(normal) speech(good) static(normal) null cochlear_age\n",
            "tymp(a) air(mild) ar_c(normal) o_ar_c(normal) ar_u(normal) o_ar_u(normal) speech(very_good) static(normal) null cochlear_age\n",
            "tymp(a) air(normal) ar_c(normal) o_ar_c(normal) ar_u(normal) o_ar_u(normal) speech(normal) static(normal) null cochlear_poss_noise\n",
            "tymp(a) air(mild) ar_c(normal) o_ar_c(normal) ar_u(normal) o_ar_u(normal) speech(normal) static(normal) null cochlear_age\n",
            "tymp(a) air(normal) ar_c(normal) o_ar_c(normal) ar_u(elevated) o_ar_u(normal) speech(normal) static(normal) null cochlear_poss_noise\n",
            "tymp(a) air(normal) ar_c(normal) o_ar_c(normal) ar_u(normal) o_ar_u(elevated) speech(normal) static(normal) null cochlear_poss_noise\n",
            "tymp(a) air(mild) ar_c(normal) o_ar_c(normal) ar_u(normal) o_ar_u(normal) speech(normal) static(normal) bone(mild) cochlear_unknown\n",
            "tymp(a) air(mild) ar_c(normal) o_ar_c(normal) ar_u(normal) o_ar_u(normal) speech(normal) static(normal) bone(mild) cochlear_unknown\n",
            "tymp(a) air(normal) ar_c(normal) o_ar_c(normal) ar_u(normal) o_ar_u(normal) speech(normal) null null possible_menieres\n",
            "tymp(a) air(normal) ar_c(normal) o_ar_c(normal) ar_u(normal) o_ar_u(normal) speech(normal) static(normal) bone(normal) normal_ear\n",
            "tymp(a) air(normal) ar_c(normal) o_ar_c(normal) ar_u(normal) o_ar_u(normal) speech(normal) static(normal) null cochlear_poss_noise\n",
            "tymp(a) air(normal) ar_c(normal) o_ar_c(normal) ar_u(normal) o_ar_u(normal) speech(good) static(normal) null cochlear_poss_noise\n",
            "tymp(a) air(mild) ar_c(normal) o_ar_c(elevated) ar_u(normal) o_ar_u(normal) speech(poor) static(normal) bone(unmeasured) cochlear_age_and_noise\n",
            "tymp(a) air(mild) ar_c(normal) o_ar_c(normal) ar_u(normal) o_ar_u(normal) speech(normal) static(normal) null cochlear_unknown\n",
            "tymp(a) air(normal) ar_c(normal) o_ar_c(normal) ar_u(normal) o_ar_u(normal) speech(normal) static(normal) null cochlear_age\n",
            "tymp(a) air(normal) ar_c(normal) o_ar_c(normal) ar_u(normal) o_ar_u(normal) speech(normal) static(normal) bone(normal) normal_ear\n",
            "tymp(a) air(mild) ar_c(normal) o_ar_c(normal) ar_u(normal) o_ar_u(normal) speech(very_poor) static(normal) null cochlear_age_and_noise\n",
            "tymp(a) air(mild) ar_c(normal) o_ar_c(normal) ar_u(normal) o_ar_u(normal) speech(very_poor) static(normal) null cochlear_age_and_noise\n",
            "tymp(a) air(mild) ar_c(normal) o_ar_c(normal) ar_u(normal) o_ar_u(normal) null static(normal) null cochlear_age_and_noise\n",
            "tymp(a) air(mild) ar_c(normal) o_ar_c(normal) ar_u(normal) o_ar_u(normal) null static(normal) null cochlear_age_and_noise\n",
            "tymp(a) air(mild) ar_c(absent) o_ar_c(normal) ar_u(normal) o_ar_u(absent) speech(good) static(normal) bone(mild) cochlear_age\n",
            "tymp(a) air(mild) ar_c(normal) o_ar_c(absent) ar_u(absent) o_ar_u(normal) speech(very_good) static(normal) bone(mild) cochlear_age\n",
            "tymp(a) air(mild) ar_c(normal) o_ar_c(normal) ar_u(elevated) o_ar_u(normal) speech(unmeasured) static(normal) bone(unmeasured) cochlear_age\n",
            "tymp(a) air(mild) o_ar_c(normal) o_ar_c(normal) ar_u(normal) o_ar_u(elevated) speech(unmeasured) static(normal) bone(unmeasured) cochlear_age\n",
            "tymp(as) air(moderate) ar_c(absent) o_ar_c(absent) ar_u(absent) o_ar_u(absent) speech(normal) static(normal) bone(mild) mixed_cochlear_unk_fixation\n",
            "tymp(as) air(moderate) ar_c(absent) o_ar_c(absent) ar_u(absent) o_ar_u(absent) speech(normal) static(normal) bone(mild) mixed_cochlear_unk_fixation\n",
            "tymp(a) air(normal) ar_c(normal) o_ar_c(normal) ar_u(normal) o_ar_u(normal) speech(normal) static(normal) bone(unmeasured) cochlear_unknown\n",
            "tymp(a) air(normal) ar_c(normal) o_ar_c(normal) ar_u(normal) o_ar_u(normal) speech(normal) static(normal) bone(unmeasured) cochlear_unknown\n",
            "tymp(a) air(mild) ar_c(normal) o_ar_c(normal) ar_u(normal) o_ar_u(elevated) speech(good) static(normal) bone(mild) cochlear_age\n",
            "tymp(a) air(mild) ar_c(normal) o_ar_c(normal) ar_u(elevated) o_ar_u(normal) speech(good) static(normal) bone(mild) cochlear_age\n",
            "tymp(a) air(normal) ar_c(normal) o_ar_c(normal) ar_u(normal) o_ar_u(normal) speech(good) static(normal) bone(unmeasured) cochlear_unknown\n",
            "tymp(a) air(mild) ar_c(normal) o_ar_c(normal) ar_u(normal) o_ar_u(normal) speech(poor) static(normal) bone(unmeasured) cochlear_unknown\n",
            "tymp(a) air(normal) ar_c(normal) o_ar_c(normal) ar_u(normal) o_ar_u(normal) speech(normal) static(normal) bone(unmeasured) cochlear_unknown\n",
            "tymp(a) air(normal) ar_c(normal) o_ar_c(normal) ar_u(normal) o_ar_u(normal) speech(normal) static(normal) bone(unmeasured) cochlear_unknown\n",
            "tymp(a) air(normal) ar_c(normal) o_ar_c(normal) ar_u(elevated) o_ar_u(elevated) speech(very_good) static(normal) bone(unmeasured) cochlear_poss_noise\n",
            "tymp(ad) air(normal) ar_c(absent) o_ar_c(absent) ar_u(elevated) o_ar_u(absent) speech(normal) static(normal) bone(normal) mixed_cochlear_unk_discontinuity\n",
            "tymp(a) air(mild) ar_c(normal) o_ar_c(normal) ar_u(normal) o_ar_u(normal) speech(very_good) static(normal) bone(unmeasured) cochlear_age\n",
            "tymp(a) air(normal) ar_c(normal) o_ar_c(normal) ar_u(normal) o_ar_u(normal) speech(normal) static(normal) bone(unmeasured) cochlear_age\n",
            "tymp(a) air(normal) ar_c(normal) o_ar_c(normal) ar_u(normal) o_ar_u(normal) speech(normal) static(normal) bone(unmeasured) cochlear_unknown\n",
            "tymp(a) air(normal) ar_c(normal) o_ar_c(normal) ar_u(normal) o_ar_u(normal) speech(normal) static(normal) bone(unmeasured) cochlear_unknown\n",
            "tymp(a) air(mild) ar_c(elevated) o_ar_c(elevated) ar_u(normal) o_ar_u(normal) speech(normal) static(normal) bone(unmeasured) cochlear_unknown\n",
            "tymp(a) air(mild) ar_c(elevated) o_ar_c(elevated) ar_u(normal) o_ar_u(normal) speech(good) static(normal) bone(unmeasured) cochlear_unknown\n",
            "tymp(a) air(mild) ar_c(normal) o_ar_c(normal) ar_u(normal) o_ar_u(normal) speech(poor) static(normal) bone(unmeasured) cochlear_age\n",
            "tymp(a) air(mild) ar_c(normal) o_ar_c(normal) ar_u(normal) o_ar_u(normal) speech(poor) static(normal) bone(unmeasured) cochlear_age\n",
            "tymp(a) air(mild) ar_c(absent) o_ar_c(absent) ar_u(elevated) o_ar_u(absent) speech(normal) static(normal) bone(mild) possible_menieres\n",
            "tymp(a) air(mild) ar_c(elevated) o_ar_c(normal) ar_u(normal) o_ar_u(normal) speech(poor) static(normal) bone(mild) cochlear_unknown\n",
            "tymp(a) air(mild) ar_c(normal) o_ar_c(elevated) ar_u(normal) o_ar_u(normal) speech(poor) static(normal) bone(mild) cochlear_unknown\n",
            "tymp(as) air(severe) ar_c(absent) o_ar_c(absent) ar_u(absent) o_ar_u(absent) speech(very_poor) static(normal) bone(normal) conductive_fixation\n",
            "tymp(as) air(mild) ar_c(absent) o_ar_c(absent) ar_u(absent) o_ar_u(absent) speech(normal) static(normal) bone(normal) conductive_fixation\n",
            "tymp(a) air(normal) ar_c(absent) o_ar_c(elevated) ar_u(normal) o_ar_u(absent) speech(very_good) static(normal) bone(normal) normal_ear\n",
            "tymp(a) air(mild) ar_c(normal) o_ar_c(normal) ar_u(normal) o_ar_u(normal) speech(unmeasured) static(normal) bone(unmeasured) cochlear_age_and_noise\n",
            "tymp(a) air(normal) ar_c(normal) o_ar_c(normal) ar_u(normal) o_ar_u(normal) speech(good) static(normal) bone(unmeasured) cochlear_age_and_noise\n",
            "tymp(a) air(mild) ar_c(normal) o_ar_c(normal) ar_u(normal) o_ar_u(elevated) speech(good) static(normal) bone(unmeasured) cochlear_age\n",
            "tymp(a) air(mild) ar_c(normal) o_ar_c(normal) ar_u(elevated) o_ar_u(normal) speech(very_good) static(normal) bone(unmeasured) cochlear_age\n",
            "tymp(a) air(mild) ar_c(absent) o_ar_c(normal) ar_u(normal) o_ar_u(absent) speech(very_good) static(normal) bone(mild) cochlear_age\n",
            "tymp(c) air(mild) ar_c(normal) o_ar_c(absent) ar_u(absent) o_ar_u(normal) speech(very_good) static(normal) bone(mild) mixed_cochlear_age_otitis_media\n",
            "tymp(a) air(normal) ar_c(normal) o_ar_c(normal) ar_u(normal) o_ar_u(normal) speech(normal) null bone(unmeasured) possible_brainstem_disorder\n",
            "tymp(a) air(mild) ar_c(normal) o_ar_c(normal) ar_u(normal) o_ar_u(normal) speech(very_good) static(normal) bone(unmeasured) cochlear_age\n",
            "tymp(a) air(normal) ar_c(normal) o_ar_c(normal) ar_u(normal) o_ar_u(normal) speech(normal) static(normal) bone(unmeasured) cochlear_age\n"
          ],
          "name": "stdout"
        }
      ]
    },
    {
      "cell_type": "markdown",
      "metadata": {
        "id": "1BM43lcG9H17"
      },
      "source": [
        "Triming the data for distinguish feature and value"
      ]
    },
    {
      "cell_type": "code",
      "metadata": {
        "id": "KwZmpal8y_Wy"
      },
      "source": [
        "\n",
        "for i in range(200):\n",
        "  tymp[i]=tymp[i].replace('tymp(','')\n",
        "  tymp[i]=tymp[i].replace(')','')\n",
        "  air[i]=air[i].replace('air(','')\n",
        "  air[i]=air[i].replace(')','')\n",
        "  ar_c[i]=ar_c[i].replace('ar_c(','')\n",
        "  ar_c[i]=ar_c[i].replace(')','')\n",
        "  o_ar_c[i]=o_ar_c[i].replace('o_ar_c(','')\n",
        "  o_ar_c[i]=o_ar_c[i].replace(')','')\n",
        "  ar_u[i]=ar_u[i].replace('ar_u(','')\n",
        "  ar_u[i]=ar_u[i].replace(')','')\n",
        "  o_ar_u[i]=o_ar_u[i].replace('o_ar_u(','')\n",
        "  o_ar_u[i]=o_ar_u[i].replace(')','')\n",
        "  speech[i]=speech[i].replace('speech(','')\n",
        "  speech[i]=speech[i].replace(')','')\n",
        "  static[i]=static[i].replace('static(','')\n",
        "  static[i]=static[i].replace(')','')\n",
        "  bone[i]=bone[i].replace('bone(','')\n",
        "  bone[i]=bone[i].replace(')','')\n",
        "\n",
        "for l in range(200):\n",
        "  print(tymp[l],air[l],ar_c[l],o_ar_c[l],ar_u[l],o_ar_u[l],speech[l],static[l],bone[l],target[l])"
      ],
      "execution_count": null,
      "outputs": []
    },
    {
      "cell_type": "markdown",
      "metadata": {
        "id": "ydUP-Lbk9xhq"
      },
      "source": [
        "Assigning the featur value and target"
      ]
    },
    {
      "cell_type": "code",
      "metadata": {
        "id": "bnn1JnNKFH4g"
      },
      "source": [
        "x=[tymp,air,ar_c,o_ar_c,ar_u,o_ar_u,speech,static,bone]\n",
        "y=target\n"
      ],
      "execution_count": 179,
      "outputs": []
    },
    {
      "cell_type": "markdown",
      "metadata": {
        "id": "ncZ8Xqjd9_lD"
      },
      "source": [
        "Encoding the value so that we can work on our diffrent machine as per requirement"
      ]
    },
    {
      "cell_type": "code",
      "metadata": {
        "id": "xi0zZVMgtx9Q"
      },
      "source": [
        "import numpy as np\n",
        "from sklearn.preprocessing import LabelEncoder, OneHotEncoder\n",
        "le = LabelEncoder()\n",
        "\n",
        "\n",
        "for i in range(len(x)):\n",
        "  x[i]= le.fit_transform(x[i])\n"
      ],
      "execution_count": 180,
      "outputs": []
    },
    {
      "cell_type": "code",
      "metadata": {
        "colab": {
          "base_uri": "https://localhost:8080/"
        },
        "id": "il332DM7hCIr",
        "outputId": "87e8ed8c-0f3e-46a7-a88d-d1fad498e137"
      },
      "source": [
        "for l in range(200):\n",
        "  print(x[l][0],x[l][1],x[l][2],x[l][3],x[l][4],x[l][5],x[l][6],x[l][7],x[l][8],target[l])"
      ],
      "execution_count": 211,
      "outputs": [
        {
          "output_type": "stream",
          "text": [
            "0 0 2 2 2 2 1 0 3 cochlear_unknown\n",
            "0 1 2 2 2 2 1 0 3 cochlear_unknown\n",
            "2 0 3 3 0 0 1 0 0 mixed_cochlear_age_fixation\n",
            "3 0 3 3 0 0 1 0 0 mixed_cochlear_age_otitis_media\n",
            "0 0 2 2 2 2 0 0 0 cochlear_age\n",
            "0 0 2 2 2 2 5 0 0 cochlear_age\n",
            "0 0 2 2 2 2 0 0 0 cochlear_unknown\n",
            "0 0 2 2 2 2 5 0 0 cochlear_unknown\n",
            "0 4 3 3 3 3 2 0 3 cochlear_unknown\n",
            "0 0 1 2 0 0 0 0 0 cochlear_age\n",
            "0 0 2 2 0 0 5 0 0 cochlear_age\n",
            "0 0 2 2 2 2 0 0 3 cochlear_age\n",
            "0 4 2 2 2 2 6 0 1 cochlear_unknown\n",
            "0 2 1 1 2 1 1 0 0 normal_ear\n",
            "0 0 2 2 2 1 5 0 0 cochlear_age\n",
            "0 0 2 2 1 1 0 0 0 cochlear_age\n",
            "0 0 2 2 2 1 5 0 0 cochlear_poss_noise\n",
            "0 0 2 2 1 2 1 0 0 cochlear_poss_noise\n",
            "0 2 2 2 2 1 1 0 3 normal_ear\n",
            "0 2 2 2 1 2 1 0 3 cochlear_unknown\n",
            "0 0 2 2 2 2 6 0 3 cochlear_age_and_noise\n",
            "0 0 2 2 2 2 1 0 3 cochlear_age_and_noise\n",
            "0 2 2 2 2 2 0 0 3 cochlear_poss_noise\n",
            "0 2 2 2 2 2 1 0 2 normal_ear\n",
            "0 1 1 2 1 2 6 0 3 cochlear_unknown\n",
            "0 2 2 2 2 1 5 0 2 cochlear_unknown\n",
            "0 2 2 2 1 2 5 0 2 cochlear_unknown\n",
            "0 0 2 2 2 2 1 0 3 cochlear_poss_noise\n",
            "0 0 0 1 0 2 6 0 0 acoustic_neuroma\n",
            "0 0 1 0 2 0 1 0 0 cochlear_unknown\n",
            "0 0 2 1 2 2 1 0 3 cochlear_poss_noise\n",
            "0 2 1 2 2 2 1 0 3 normal_ear\n",
            "0 2 2 1 1 2 0 0 3 cochlear_unknown\n",
            "0 2 1 2 1 2 0 0 3 cochlear_unknown\n",
            "3 1 0 0 0 2 5 0 0 mixed_cochlear_unk_ser_om\n",
            "0 0 0 0 2 0 1 0 0 cochlear_unknown\n",
            "0 0 0 0 0 0 5 0 0 cochlear_age_and_noise\n",
            "0 2 0 0 1 0 1 0 2 normal_ear\n",
            "1 4 0 0 0 1 6 0 0 conductive_discontinuity\n",
            "0 2 2 2 2 1 0 0 3 cochlear_age\n",
            "0 2 1 2 2 2 5 0 3 cochlear_age\n",
            "0 2 2 0 1 0 1 0 2 normal_ear\n",
            "0 0 2 2 2 2 1 0 3 cochlear_age\n",
            "0 0 1 1 2 1 1 0 3 cochlear_unknown\n",
            "0 0 1 1 1 2 1 0 3 cochlear_unknown\n",
            "0 1 0 2 0 1 6 0 1 retrocochlear_unknown\n",
            "2 0 0 0 0 0 2 0 2 conductive_fixation\n",
            "0 0 0 0 0 1 1 0 0 cochlear_unknown\n",
            "0 2 0 0 1 0 1 0 2 normal_ear\n",
            "0 1 2 2 2 1 6 1 3 cochlear_age\n",
            "0 1 2 2 1 2 6 1 3 cochlear_age\n",
            "0 2 1 2 2 2 0 0 3 cochlear_age\n",
            "0 2 0 0 1 0 1 0 2 normal_ear\n",
            "1 1 0 0 0 1 0 0 2 conductive_discontinuity\n",
            "0 2 1 1 0 1 1 0 3 normal_ear\n",
            "0 2 1 1 1 0 1 0 2 cochlear_unknown\n",
            "0 0 2 2 2 2 0 0 3 cochlear_unknown\n",
            "0 0 2 2 2 1 5 1 3 cochlear_age\n",
            "0 0 2 2 1 1 3 0 3 cochlear_age\n",
            "0 2 2 1 1 2 5 0 3 cochlear_poss_noise\n",
            "0 2 1 2 2 1 1 0 3 cochlear_poss_noise\n",
            "0 0 2 2 2 2 0 0 3 cochlear_age_and_noise\n",
            "0 0 2 2 2 2 3 0 3 cochlear_age_and_noise\n",
            "0 2 1 2 1 2 1 0 2 cochlear_unknown\n",
            "0 2 2 1 2 1 1 0 2 normal_ear\n",
            "0 0 0 1 2 0 0 0 3 cochlear_unknown\n",
            "0 2 1 2 2 0 1 0 3 normal_ear\n",
            "0 0 0 0 3 0 0 0 3 cochlear_age_and_noise\n",
            "0 0 0 0 0 0 5 0 0 cochlear_age_and_noise\n",
            "0 0 1 1 1 2 3 0 0 cochlear_unknown\n",
            "0 0 1 1 2 1 3 0 0 cochlear_unknown\n",
            "0 2 0 2 2 0 1 0 2 normal_ear\n",
            "0 2 2 1 1 2 1 0 2 cochlear_age\n",
            "0 2 1 2 2 1 0 0 2 cochlear_age\n",
            "0 0 0 0 1 0 3 0 0 cochlear_age_and_noise\n",
            "0 2 0 0 2 0 1 0 2 normal_ear\n",
            "0 0 0 0 0 2 1 0 0 bells_palsy\n",
            "0 2 2 2 2 1 5 0 3 cochlear_noise_and_heredity\n",
            "0 2 2 2 1 2 0 0 3 cochlear_noise_and_heredity\n",
            "0 2 0 0 2 0 1 0 2 cochlear_unknown\n",
            "3 1 0 0 0 0 5 0 0 mixed_cochlear_unk_ser_om\n",
            "2 0 0 0 0 0 1 0 0 mixed_cochlear_unk_fixation\n",
            "2 1 0 0 0 0 5 0 0 mixed_cochlear_unk_fixation\n",
            "0 0 2 2 2 2 1 0 3 cochlear_age\n",
            "4 0 1 1 2 2 5 0 0 mixed_poss_noise_om\n",
            "4 0 1 1 2 2 3 0 0 mixed_poss_noise_om\n",
            "3 0 0 0 0 1 1 0 3 otitis_media\n",
            "4 2 0 0 1 0 1 0 3 otitis_media\n",
            "0 0 1 2 2 1 0 1 0 possible_menieres\n",
            "0 2 2 1 1 2 5 0 3 normal_ear\n",
            "0 2 2 2 2 2 1 1 3 possible_brainstem_disorder\n",
            "0 0 2 2 2 2 1 1 3 possible_menieres\n",
            "0 2 2 2 2 2 1 1 3 cochlear_unknown\n",
            "0 2 2 2 2 2 1 0 3 cochlear_poss_noise\n",
            "0 4 2 2 2 2 6 0 3 cochlear_age_plus_poss_menieres\n",
            "0 0 2 2 2 2 1 1 3 possible_menieres\n",
            "0 1 2 2 2 2 6 0 1 possible_menieres\n",
            "0 1 1 2 2 2 6 0 4 possible_menieres\n",
            "0 0 2 2 2 2 1 0 3 cochlear_unknown\n",
            "0 2 2 2 2 2 1 0 3 cochlear_age\n",
            "3 1 0 0 0 0 6 0 2 otitis_media\n",
            "3 4 0 0 0 1 3 0 0 mixed_cochlear_unk_ser_om\n",
            "0 0 0 0 1 0 5 0 2 otitis_media\n",
            "3 1 2 0 0 0 6 0 0 mixed_cochlear_age_s_om\n",
            "0 2 0 2 0 0 0 0 2 cochlear_age\n",
            "0 2 2 2 2 2 1 0 4 cochlear_unknown\n",
            "0 0 2 2 1 1 3 0 4 cochlear_poss_noise\n",
            "0 2 2 1 2 1 5 0 2 normal_ear\n",
            "0 0 1 2 1 2 0 0 0 retrocochlear_unknown\n",
            "1 0 0 0 0 1 5 0 2 mixed_cochlear_unk_discontinuity\n",
            "0 2 2 2 2 2 1 0 4 cochlear_unknown\n",
            "2 1 0 0 0 2 1 0 0 mixed_cochlear_unk_fixation\n",
            "0 2 0 0 2 0 5 0 2 normal_ear\n",
            "0 0 0 0 0 1 5 0 0 possible_menieres\n",
            "4 2 0 3 0 0 1 0 2 mixed_cochlear_age_otitis_media\n",
            "3 2 0 0 0 0 3 0 2 mixed_cochlear_age_s_om\n",
            "4 0 0 0 0 0 1 0 2 mixed_poss_central_om\n",
            "0 2 0 0 0 0 3 0 2 poss_central\n",
            "4 1 1 0 0 1 0 0 0 mixed_cochlear_age_otitis_media\n",
            "0 2 2 2 2 2 1 1 4 possible_brainstem_disorder\n",
            "0 3 3 3 3 3 2 0 3 cochlear_unknown\n",
            "0 0 2 2 2 2 0 0 3 cochlear_age\n",
            "0 0 2 2 1 1 0 0 0 cochlear_age\n",
            "0 0 2 2 2 2 1 0 0 cochlear_unknown\n",
            "0 2 2 2 2 1 5 0 2 cochlear_unknown\n",
            "0 0 2 2 2 2 1 0 3 cochlear_poss_noise\n",
            "0 0 2 2 2 2 3 0 0 cochlear_age\n",
            "0 0 2 2 2 2 0 0 0 cochlear_age\n",
            "0 0 0 0 0 0 5 0 0 cochlear_age_and_noise\n",
            "0 0 2 2 2 2 1 0 3 cochlear_age\n",
            "2 0 0 0 0 0 2 0 2 conductive_fixation\n",
            "0 2 1 2 2 2 0 0 3 cochlear_age\n",
            "0 0 2 2 2 2 0 0 3 cochlear_unknown\n",
            "2 4 0 0 0 0 3 0 2 conductive_fixation\n",
            "2 4 0 0 0 0 3 0 2 conductive_fixation\n",
            "0 0 2 2 2 2 5 0 3 cochlear_age\n",
            "0 2 2 2 2 2 1 0 3 normal_ear\n",
            "0 0 2 2 2 2 0 0 3 cochlear_unknown\n",
            "0 1 2 1 2 1 6 0 3 cochlear_age_and_noise\n",
            "0 0 1 2 1 2 6 0 3 cochlear_age_and_noise\n",
            "0 2 2 2 2 2 1 1 3 possible_brainstem_disorder\n",
            "0 0 2 2 2 2 0 0 3 cochlear_age\n",
            "0 0 2 2 2 2 5 0 3 cochlear_age\n",
            "0 2 2 2 2 2 1 0 3 cochlear_poss_noise\n",
            "0 0 2 2 2 2 1 0 3 cochlear_age\n",
            "0 2 2 2 1 2 1 0 3 cochlear_poss_noise\n",
            "0 2 2 2 2 1 1 0 3 cochlear_poss_noise\n",
            "0 0 2 2 2 2 1 0 0 cochlear_unknown\n",
            "0 0 2 2 2 2 1 0 0 cochlear_unknown\n",
            "0 2 2 2 2 2 1 1 3 possible_menieres\n",
            "0 2 2 2 2 2 1 0 2 normal_ear\n",
            "0 2 2 2 2 2 1 0 3 cochlear_poss_noise\n",
            "0 2 2 2 2 2 0 0 3 cochlear_poss_noise\n",
            "0 0 2 1 2 2 3 0 4 cochlear_age_and_noise\n",
            "0 0 2 2 2 2 1 0 3 cochlear_unknown\n",
            "0 2 2 2 2 2 1 0 3 cochlear_age\n",
            "0 2 2 2 2 2 1 0 2 normal_ear\n",
            "0 0 2 2 2 2 6 0 3 cochlear_age_and_noise\n",
            "0 0 2 2 2 2 6 0 3 cochlear_age_and_noise\n",
            "0 0 2 2 2 2 2 0 3 cochlear_age_and_noise\n",
            "0 0 2 2 2 2 2 0 3 cochlear_age_and_noise\n",
            "0 0 0 2 2 0 0 0 0 cochlear_age\n",
            "0 0 2 0 0 2 5 0 0 cochlear_age\n",
            "0 0 2 2 1 2 4 0 4 cochlear_age\n",
            "0 0 4 2 2 1 4 0 4 cochlear_age\n",
            "2 1 0 0 0 0 1 0 0 mixed_cochlear_unk_fixation\n",
            "2 1 0 0 0 0 1 0 0 mixed_cochlear_unk_fixation\n",
            "0 2 2 2 2 2 1 0 4 cochlear_unknown\n",
            "0 2 2 2 2 2 1 0 4 cochlear_unknown\n",
            "0 0 2 2 2 1 0 0 0 cochlear_age\n",
            "0 0 2 2 1 2 0 0 0 cochlear_age\n",
            "0 2 2 2 2 2 0 0 4 cochlear_unknown\n",
            "0 0 2 2 2 2 3 0 4 cochlear_unknown\n",
            "0 2 2 2 2 2 1 0 4 cochlear_unknown\n",
            "0 2 2 2 2 2 1 0 4 cochlear_unknown\n",
            "0 2 2 2 1 1 5 0 4 cochlear_poss_noise\n",
            "1 2 0 0 1 0 1 0 2 mixed_cochlear_unk_discontinuity\n",
            "0 0 2 2 2 2 5 0 4 cochlear_age\n",
            "0 2 2 2 2 2 1 0 4 cochlear_age\n",
            "0 2 2 2 2 2 1 0 4 cochlear_unknown\n",
            "0 2 2 2 2 2 1 0 4 cochlear_unknown\n",
            "0 0 1 1 2 2 1 0 4 cochlear_unknown\n",
            "0 0 1 1 2 2 0 0 4 cochlear_unknown\n",
            "0 0 2 2 2 2 3 0 4 cochlear_age\n",
            "0 0 2 2 2 2 3 0 4 cochlear_age\n",
            "0 0 0 0 1 0 1 0 0 possible_menieres\n",
            "0 0 1 2 2 2 3 0 0 cochlear_unknown\n",
            "0 0 2 1 2 2 3 0 0 cochlear_unknown\n",
            "2 4 0 0 0 0 6 0 2 conductive_fixation\n",
            "2 0 0 0 0 0 1 0 2 conductive_fixation\n",
            "0 2 0 1 2 0 5 0 2 normal_ear\n",
            "0 0 2 2 2 2 4 0 4 cochlear_age_and_noise\n",
            "0 2 2 2 2 2 0 0 4 cochlear_age_and_noise\n",
            "0 0 2 2 2 1 0 0 4 cochlear_age\n",
            "0 0 2 2 1 2 5 0 4 cochlear_age\n",
            "0 0 0 2 2 0 5 0 0 cochlear_age\n",
            "4 0 2 0 0 2 5 0 0 mixed_cochlear_age_otitis_media\n",
            "0 2 2 2 2 2 1 1 4 possible_brainstem_disorder\n",
            "0 0 2 2 2 2 5 0 4 cochlear_age\n",
            "0 2 2 2 2 2 1 0 4 cochlear_age\n"
          ],
          "name": "stdout"
        }
      ]
    },
    {
      "cell_type": "code",
      "metadata": {
        "id": "0mtiOn6s8HNO"
      },
      "source": [
        "import pandas as pd\n",
        "import numpy as np\n",
        "x=np.array(x)\n",
        "y=np.array(y)\n",
        "x=x.transpose()"
      ],
      "execution_count": 214,
      "outputs": []
    },
    {
      "cell_type": "code",
      "metadata": {
        "id": "WFZE0KtdZT1R"
      },
      "source": [
        "#splitting our data in 60% 40% for traing and testing\n",
        "from sklearn.model_selection import train_test_split\n",
        "x_train,x_test,y_train,y_test=train_test_split(x,y,random_state=0,test_size=0.4)"
      ],
      "execution_count": 215,
      "outputs": []
    },
    {
      "cell_type": "code",
      "metadata": {
        "colab": {
          "base_uri": "https://localhost:8080/"
        },
        "id": "KSnpfaXuBjvJ",
        "outputId": "4fa8ebf0-bac1-4370-bfd3-bbab5282c0b0"
      },
      "source": [
        "print('for training ',x_train)\n",
        "print('----------------------------')\n",
        "print('for testing',x_test)"
      ],
      "execution_count": 230,
      "outputs": [
        {
          "output_type": "stream",
          "text": [
            "for training  [[-0.43526668 -0.88285072  0.68107337 ...  0.32394118 -0.2847474\n",
            "  -1.30072282]\n",
            " [ 1.36583683 -0.88285072 -1.414537   ... -0.15011908 -0.2847474\n",
            "   0.03335187]\n",
            " [-0.43526668  0.03044313  0.68107337 ...  1.74612195 -0.2847474\n",
            "   0.70038921]\n",
            " ...\n",
            " [-0.43526668  0.94373698 -1.414537   ...  0.32394118 -0.2847474\n",
            "   0.03335187]\n",
            " [-0.43526668 -0.88285072 -1.414537   ... -0.62417934 -0.2847474\n",
            "  -1.30072282]\n",
            " [-0.43526668 -0.88285072  0.68107337 ...  0.32394118 -0.2847474\n",
            "   1.36742656]]\n",
            "----------------------------\n",
            "for testing [[-0.43526668  0.94373698  0.68107337  0.69738252  0.71061925 -0.26160228\n",
            "  -0.62417934 -0.2847474   0.70038921]\n",
            " [-0.43526668 -0.88285072  0.68107337  0.69738252 -0.44173629  0.85955036\n",
            "  -1.0982396  -0.2847474  -1.30072282]\n",
            " [-0.43526668  0.94373698  0.68107337 -0.38944738  0.71061925 -0.26160228\n",
            "   1.2720617  -0.2847474   0.03335187]\n",
            " [-0.43526668 -0.88285072  0.68107337  0.69738252  0.71061925  0.85955036\n",
            "  -0.62417934 -0.2847474   0.70038921]\n",
            " [-0.43526668 -0.88285072  0.68107337  0.69738252  0.71061925  0.85955036\n",
            "   1.2720617  -0.2847474   1.36742656]\n",
            " [-0.43526668 -0.88285072 -0.36673181 -0.38944738  0.71061925  0.85955036\n",
            "  -1.0982396  -0.2847474   1.36742656]\n",
            " [-0.43526668 -0.88285072  0.68107337  0.69738252  0.71061925  0.85955036\n",
            "   1.2720617  -0.2847474  -1.30072282]\n",
            " [-0.43526668  0.94373698  0.68107337  0.69738252  0.71061925 -0.26160228\n",
            "  -0.62417934 -0.2847474   0.70038921]\n",
            " [-0.43526668  2.77032467  0.68107337  0.69738252  0.71061925  0.85955036\n",
            "   1.74612195 -0.2847474  -0.63368548]\n",
            " [-0.43526668  0.94373698  0.68107337  0.69738252  0.71061925  0.85955036\n",
            "  -1.0982396  -0.2847474   0.70038921]\n",
            " [-0.43526668 -0.88285072  0.68107337  0.69738252  0.71061925  0.85955036\n",
            "  -1.0982396  -0.2847474   0.70038921]\n",
            " [-0.43526668 -0.88285072  0.68107337  0.69738252  0.71061925  0.85955036\n",
            "  -0.62417934 -0.2847474   0.70038921]\n",
            " [-0.43526668  0.94373698  0.68107337  0.69738252  0.71061925  0.85955036\n",
            "  -0.62417934 -0.2847474   1.36742656]\n",
            " [-0.43526668 -0.88285072  0.68107337  0.69738252  0.71061925  0.85955036\n",
            "  -0.62417934 -0.2847474   0.70038921]\n",
            " [ 2.26638859  0.03044313 -1.414537   -1.47627729 -1.59409182 -1.38275492\n",
            "   1.2720617  -0.2847474  -1.30072282]\n",
            " [-0.43526668 -0.88285072  0.68107337  0.69738252  0.71061925  0.85955036\n",
            "   1.2720617  -0.2847474  -1.30072282]\n",
            " [-0.43526668  0.94373698 -0.36673181  0.69738252 -0.44173629  0.85955036\n",
            "  -1.0982396  -0.2847474   0.70038921]\n",
            " [ 1.36583683 -0.88285072 -1.414537   -1.47627729 -1.59409182 -1.38275492\n",
            "  -0.15011908 -0.2847474   0.03335187]\n",
            " [-0.43526668  0.94373698 -1.414537   -1.47627729 -0.44173629 -1.38275492\n",
            "  -0.62417934 -0.2847474   0.03335187]\n",
            " [-0.43526668 -0.88285072 -1.414537   -1.47627729 -0.44173629 -1.38275492\n",
            "   0.32394118 -0.2847474  -1.30072282]\n",
            " [-0.43526668 -0.88285072  0.68107337  0.69738252  0.71061925  0.85955036\n",
            "   0.32394118 -0.2847474   1.36742656]\n",
            " [-0.43526668  0.94373698  0.68107337  0.69738252 -0.44173629  0.85955036\n",
            "  -0.62417934 -0.2847474   0.70038921]\n",
            " [-0.43526668  0.03044313 -1.414537    0.69738252 -1.59409182 -0.26160228\n",
            "   1.74612195 -0.2847474  -0.63368548]\n",
            " [-0.43526668 -0.88285072  0.68107337  0.69738252  0.71061925  0.85955036\n",
            "  -0.15011908 -0.2847474   0.70038921]\n",
            " [-0.43526668  0.94373698 -0.36673181  0.69738252  0.71061925 -0.26160228\n",
            "  -0.62417934 -0.2847474   0.70038921]\n",
            " [-0.43526668 -0.88285072  0.68107337  0.69738252  0.71061925  0.85955036\n",
            "  -0.62417934 -0.2847474  -1.30072282]\n",
            " [-0.43526668  0.94373698  0.68107337  0.69738252  0.71061925  0.85955036\n",
            "  -0.62417934 -0.2847474   1.36742656]\n",
            " [-0.43526668 -0.88285072 -1.414537   -1.47627729 -0.44173629 -1.38275492\n",
            "  -0.62417934 -0.2847474  -1.30072282]\n",
            " [-0.43526668 -0.88285072  0.68107337  0.69738252 -0.44173629 -0.26160228\n",
            "  -1.0982396  -0.2847474  -1.30072282]\n",
            " [-0.43526668 -0.88285072 -0.36673181 -0.38944738 -0.44173629  0.85955036\n",
            "  -0.62417934 -0.2847474   0.70038921]\n",
            " [-0.43526668 -0.88285072  0.68107337  0.69738252  0.71061925 -0.26160228\n",
            "   1.2720617  -0.2847474  -1.30072282]\n",
            " [-0.43526668  0.94373698 -0.36673181 -0.38944738 -0.44173629 -1.38275492\n",
            "  -0.62417934 -0.2847474   0.03335187]\n",
            " [-0.43526668  0.94373698  0.68107337  0.69738252  0.71061925  0.85955036\n",
            "  -0.62417934 -0.2847474   0.03335187]\n",
            " [ 1.36583683  0.03044313 -1.414537   -1.47627729 -1.59409182  0.85955036\n",
            "  -0.62417934 -0.2847474  -1.30072282]\n",
            " [-0.43526668  0.94373698  0.68107337  0.69738252  0.71061925  0.85955036\n",
            "  -1.0982396  -0.2847474   0.70038921]\n",
            " [ 1.36583683 -0.88285072 -1.414537   -1.47627729 -1.59409182 -1.38275492\n",
            "  -0.62417934 -0.2847474   0.03335187]\n",
            " [-0.43526668 -0.88285072  0.68107337  0.69738252  0.71061925  0.85955036\n",
            "  -0.62417934 -0.2847474   0.70038921]\n",
            " [-0.43526668 -0.88285072  0.68107337  0.69738252  0.71061925  0.85955036\n",
            "  -1.0982396  -0.2847474  -1.30072282]\n",
            " [-0.43526668 -0.88285072  0.68107337  0.69738252  0.71061925  0.85955036\n",
            "  -0.62417934 -0.2847474   0.70038921]\n",
            " [-0.43526668 -0.88285072  0.68107337  0.69738252 -0.44173629 -0.26160228\n",
            "   0.32394118 -0.2847474   1.36742656]\n",
            " [ 1.36583683  2.77032467 -1.414537   -1.47627729 -1.59409182 -1.38275492\n",
            "   0.32394118 -0.2847474   0.03335187]\n",
            " [-0.43526668  0.94373698 -0.36673181  0.69738252  0.71061925 -1.38275492\n",
            "  -0.62417934 -0.2847474   0.70038921]\n",
            " [-0.43526668  0.94373698  0.68107337  0.69738252 -0.44173629  0.85955036\n",
            "   1.2720617  -0.2847474   0.03335187]\n",
            " [-0.43526668 -0.88285072 -1.414537   -1.47627729 -1.59409182 -0.26160228\n",
            "   1.2720617  -0.2847474  -1.30072282]\n",
            " [-0.43526668  0.94373698  0.68107337  0.69738252  0.71061925  0.85955036\n",
            "  -0.62417934 -0.2847474   1.36742656]\n",
            " [-0.43526668  0.94373698 -0.36673181  0.69738252 -0.44173629  0.85955036\n",
            "  -0.62417934 -0.2847474   0.03335187]\n",
            " [-0.43526668  2.77032467  1.72887855  1.78421243  1.86297478  1.980703\n",
            "  -0.15011908 -0.2847474   0.70038921]\n",
            " [-0.43526668  0.94373698 -1.414537   -1.47627729  0.71061925 -1.38275492\n",
            "  -0.62417934 -0.2847474   0.03335187]\n",
            " [ 3.16694035  0.03044313 -0.36673181 -1.47627729 -1.59409182 -0.26160228\n",
            "  -1.0982396  -0.2847474  -1.30072282]\n",
            " [-0.43526668  0.94373698  0.68107337  0.69738252  0.71061925  0.85955036\n",
            "  -0.62417934 -0.2847474   0.70038921]\n",
            " [-0.43526668  0.94373698 -1.414537    0.69738252  0.71061925 -1.38275492\n",
            "  -0.62417934 -0.2847474   0.03335187]\n",
            " [-0.43526668  0.94373698  0.68107337  0.69738252  0.71061925 -0.26160228\n",
            "   1.2720617  -0.2847474   0.03335187]\n",
            " [-0.43526668 -0.88285072  0.68107337  0.69738252  0.71061925  0.85955036\n",
            "   0.32394118 -0.2847474   1.36742656]\n",
            " [-0.43526668  0.03044313 -0.36673181  0.69738252  0.71061925  0.85955036\n",
            "   1.74612195 -0.2847474   1.36742656]\n",
            " [-0.43526668  0.94373698  0.68107337  0.69738252  0.71061925  0.85955036\n",
            "  -0.62417934  3.51188458  0.70038921]\n",
            " [-0.43526668  0.03044313 -0.36673181  0.69738252 -0.44173629  0.85955036\n",
            "   1.74612195 -0.2847474   0.70038921]\n",
            " [-0.43526668 -0.88285072  0.68107337 -0.38944738  0.71061925  0.85955036\n",
            "  -0.62417934 -0.2847474   0.70038921]\n",
            " [-0.43526668 -0.88285072  0.68107337  0.69738252  0.71061925  0.85955036\n",
            "  -0.15011908 -0.2847474   0.70038921]\n",
            " [-0.43526668  0.94373698 -0.36673181  0.69738252  0.71061925  0.85955036\n",
            "   1.2720617  -0.2847474   0.70038921]\n",
            " [-0.43526668 -0.88285072  0.68107337  0.69738252  0.71061925  0.85955036\n",
            "  -1.0982396  -0.2847474   0.70038921]\n",
            " [-0.43526668  0.94373698 -0.36673181  0.69738252  0.71061925  0.85955036\n",
            "  -1.0982396  -0.2847474   0.70038921]\n",
            " [-0.43526668  0.03044313  0.68107337  0.69738252  0.71061925  0.85955036\n",
            "   1.74612195 -0.2847474  -0.63368548]\n",
            " [-0.43526668 -0.88285072 -0.36673181 -0.38944738  0.71061925  0.85955036\n",
            "  -0.62417934 -0.2847474   1.36742656]\n",
            " [-0.43526668  0.94373698  0.68107337  0.69738252 -0.44173629  0.85955036\n",
            "  -0.62417934 -0.2847474   0.70038921]\n",
            " [-0.43526668 -0.88285072  0.68107337 -0.38944738  0.71061925  0.85955036\n",
            "   0.32394118 -0.2847474   1.36742656]\n",
            " [-0.43526668  0.94373698  0.68107337  0.69738252  0.71061925  0.85955036\n",
            "  -0.62417934  3.51188458  0.70038921]\n",
            " [-0.43526668  0.94373698 -0.36673181 -0.38944738 -1.59409182 -0.26160228\n",
            "  -0.62417934 -0.2847474   0.70038921]\n",
            " [-0.43526668 -0.88285072  0.68107337  0.69738252 -0.44173629  0.85955036\n",
            "   0.79800144 -0.2847474   1.36742656]\n",
            " [-0.43526668  0.94373698 -0.36673181  0.69738252  0.71061925  0.85955036\n",
            "  -1.0982396  -0.2847474   0.70038921]\n",
            " [ 2.26638859 -0.88285072 -1.414537   -1.47627729 -1.59409182 -0.26160228\n",
            "  -0.62417934 -0.2847474   0.70038921]\n",
            " [-0.43526668 -0.88285072 -0.36673181  0.69738252 -0.44173629  0.85955036\n",
            "   1.74612195 -0.2847474   0.70038921]\n",
            " [-0.43526668  0.94373698  0.68107337  0.69738252  0.71061925  0.85955036\n",
            "  -0.62417934  3.51188458  0.70038921]\n",
            " [-0.43526668 -0.88285072  0.68107337  0.69738252  0.71061925  0.85955036\n",
            "  -1.0982396  -0.2847474   0.70038921]\n",
            " [ 2.26638859  2.77032467 -1.414537   -1.47627729 -1.59409182 -0.26160228\n",
            "   0.32394118 -0.2847474  -1.30072282]\n",
            " [-0.43526668 -0.88285072  0.68107337  0.69738252  0.71061925  0.85955036\n",
            "  -0.62417934 -0.2847474   0.70038921]\n",
            " [-0.43526668  0.94373698  0.68107337 -0.38944738 -0.44173629  0.85955036\n",
            "   1.2720617  -0.2847474   0.70038921]\n",
            " [ 0.46528507 -0.88285072 -1.414537   -1.47627729 -1.59409182 -0.26160228\n",
            "   1.2720617  -0.2847474   0.03335187]\n",
            " [-0.43526668 -0.88285072  0.68107337  0.69738252  0.71061925 -0.26160228\n",
            "   1.2720617  -0.2847474  -1.30072282]\n",
            " [-0.43526668 -0.88285072  0.68107337  0.69738252  0.71061925  0.85955036\n",
            "  -0.62417934 -0.2847474   0.70038921]\n",
            " [-0.43526668 -0.88285072  0.68107337  0.69738252  0.71061925  0.85955036\n",
            "  -1.0982396  -0.2847474   0.70038921]]\n"
          ],
          "name": "stdout"
        }
      ]
    },
    {
      "cell_type": "markdown",
      "metadata": {
        "id": "L7-XrhRrjI3_"
      },
      "source": [
        "SVM"
      ]
    },
    {
      "cell_type": "code",
      "metadata": {
        "id": "BKMrIA6aaAl8"
      },
      "source": [
        "from sklearn.preprocessing import StandardScaler\n",
        "sc=StandardScaler()\n",
        "sc.fit(x_train)\n",
        "x_train=sc.transform(x_train)\n",
        "x_test=sc.transform(x_test)"
      ],
      "execution_count": 216,
      "outputs": []
    },
    {
      "cell_type": "code",
      "metadata": {
        "colab": {
          "base_uri": "https://localhost:8080/"
        },
        "id": "09n00hVP_5lY",
        "outputId": "9174de6c-5ca9-4dbf-f2f2-ff49464d0777"
      },
      "source": [
        "from sklearn.svm import SVC\n",
        "svm=SVC(kernel='linear',C=1,random_state=0)\n",
        "svm.fit(x_train,y_train)"
      ],
      "execution_count": 217,
      "outputs": [
        {
          "output_type": "execute_result",
          "data": {
            "text/plain": [
              "SVC(C=1, break_ties=False, cache_size=200, class_weight=None, coef0=0.0,\n",
              "    decision_function_shape='ovr', degree=3, gamma='scale', kernel='linear',\n",
              "    max_iter=-1, probability=False, random_state=0, shrinking=True, tol=0.001,\n",
              "    verbose=False)"
            ]
          },
          "metadata": {
            "tags": []
          },
          "execution_count": 217
        }
      ]
    },
    {
      "cell_type": "code",
      "metadata": {
        "colab": {
          "base_uri": "https://localhost:8080/"
        },
        "id": "fyI86_YkBdMw",
        "outputId": "9a7fd2c8-2558-46f5-b941-ee134cfb3c45"
      },
      "source": [
        "\n",
        "y_pred=svm.predict(x_test)\n",
        "from sklearn.metrics import accuracy_score\n",
        "accuracy_score(y_pred,y_test)"
      ],
      "execution_count": 218,
      "outputs": [
        {
          "output_type": "execute_result",
          "data": {
            "text/plain": [
              "0.35"
            ]
          },
          "metadata": {
            "tags": []
          },
          "execution_count": 218
        }
      ]
    },
    {
      "cell_type": "code",
      "metadata": {
        "colab": {
          "base_uri": "https://localhost:8080/",
          "height": 282
        },
        "id": "Giqo9OAQYKPS",
        "outputId": "8124bac7-6130-4d25-c91d-220826596e0a"
      },
      "source": [
        "import matplotlib.pyplot as plt\n",
        "plt.plot(y_train)\n",
        "plt.plot(y_test)"
      ],
      "execution_count": 219,
      "outputs": [
        {
          "output_type": "execute_result",
          "data": {
            "text/plain": [
              "[<matplotlib.lines.Line2D at 0x7f91d1cfa790>]"
            ]
          },
          "metadata": {
            "tags": []
          },
          "execution_count": 219
        },
        {
          "output_type": "display_data",
          "data": {
            "image/png": "[encoded data removed]",
            "text/plain": [
              "<Figure size 432x288 with 1 Axes>"
            ]
          },
          "metadata": {
            "tags": [],
            "needs_background": "light"
          }
        }
      ]
    },
    {
      "cell_type": "code",
      "metadata": {
        "id": "k_JiacZLbZnL"
      },
      "source": [
        ""
      ],
      "execution_count": null,
      "outputs": []
    },
    {
      "cell_type": "code",
      "metadata": {
        "id": "Bd9g0U0LbZqz"
      },
      "source": [
        ""
      ],
      "execution_count": null,
      "outputs": []
    },
    {
      "cell_type": "markdown",
      "metadata": {
        "id": "8UXTGVMEjUrp"
      },
      "source": [
        "Liner regresion"
      ]
    },
    {
      "cell_type": "code",
      "metadata": {
        "id": "DVNVdl2Dbboq"
      },
      "source": [
        "\n",
        "from sklearn.model_selection import train_test_split\n",
        "regx_train,regx_test,reg_train,reg_test=train_test_split(x,y,random_state=0,test_size=0.4)"
      ],
      "execution_count": 220,
      "outputs": []
    },
    {
      "cell_type": "code",
      "metadata": {
        "id": "gFrkxdvidw7q"
      },
      "source": [
        "y_test=le.fit_transform(y_test)\n",
        "y_train=le.fit_transform(y_train)\n",
        "reg_train=le.fit_transform(reg_train)\n",
        "regx_test=le.fit_transform(reg_test)\n"
      ],
      "execution_count": 221,
      "outputs": []
    },
    {
      "cell_type": "code",
      "metadata": {
        "colab": {
          "base_uri": "https://localhost:8080/"
        },
        "id": "y2hGJFgYfuIL",
        "outputId": "d30eb34d-1bf2-4255-de14-16374d7b5173"
      },
      "source": [
        "\n",
        "from sklearn.linear_model import LinearRegression\n",
        "lr=LinearRegression()\n",
        "lr.fit(x_train,y_train)"
      ],
      "execution_count": 222,
      "outputs": [
        {
          "output_type": "execute_result",
          "data": {
            "text/plain": [
              "LinearRegression(copy_X=True, fit_intercept=True, n_jobs=None, normalize=False)"
            ]
          },
          "metadata": {
            "tags": []
          },
          "execution_count": 222
        }
      ]
    },
    {
      "cell_type": "code",
      "metadata": {
        "colab": {
          "base_uri": "https://localhost:8080/",
          "height": 265
        },
        "id": "yKIUhaqfjbdb",
        "outputId": "b0f33853-0809-40f1-9605-77b825dcdae9"
      },
      "source": [
        "\n",
        "y_pred=lr.predict(x_test)\n",
        "plt.scatter(reg_test,y_pred,c='blue',edgecolors='black',s=40)\n",
        "plt.plot(reg_train,y_train,color='red',lw=5)\n",
        "\n",
        "plt.show()"
      ],
      "execution_count": 223,
      "outputs": [
        {
          "output_type": "display_data",
          "data": {
            "image/png": "[encoded data removed]",
            "text/plain": [
              "<Figure size 432x288 with 1 Axes>"
            ]
          },
          "metadata": {
            "tags": [],
            "needs_background": "light"
          }
        }
      ]
    },
    {
      "cell_type": "markdown",
      "metadata": {
        "id": "NQWXh1dvgbQm"
      },
      "source": [
        ""
      ]
    },
    {
      "cell_type": "markdown",
      "metadata": {
        "id": "ODFFPvO8gbc7"
      },
      "source": [
        "Lasso Regresion"
      ]
    },
    {
      "cell_type": "code",
      "metadata": {
        "colab": {
          "base_uri": "https://localhost:8080/"
        },
        "id": "aguGkglSMclv",
        "outputId": "6aa8f02f-b7c9-4a11-edf7-d62acebf883b"
      },
      "source": [
        "y=le.fit_transform(y)\n",
        "from sklearn.linear_model import Lasso\n",
        "las=Lasso(alpha=1.0)\n",
        "las.fit(x_train,y_train)\n",
        "y_pred_train1=las.predict(x_train)\n",
        "y_pred_test1=las.predict(x_test)\n",
        "from sklearn.metrics import mean_squared_error,r2_score\n",
        "print('RIDGE : MSE Train=%.3f, MSE Test=%.3f'%\n",
        "      (mean_squared_error(y_train,y_pred_train1),(mean_squared_error(y_test,y_pred_test1))))\n",
        "print('RIDGE : R2_Score Train=%.3f, R2_Score Test=%.3f'%\n",
        "      (r2_score(y_train,y_pred_train1),(r2_score(y_test,y_pred_test1))))\n",
        "r=las.score(x_test,y_test)\n",
        "print(r)\n",
        "\n"
      ],
      "execution_count": 224,
      "outputs": [
        {
          "output_type": "stream",
          "text": [
            "RIDGE : MSE Train=30.886, MSE Test=26.104\n",
            "RIDGE : R2_Score Train=0.259, R2_Score Test=-0.844\n",
            "-0.8437041001701173\n"
          ],
          "name": "stdout"
        }
      ]
    },
    {
      "cell_type": "markdown",
      "metadata": {
        "id": "huOzad5iA7rL"
      },
      "source": [
        "# Random forest tree "
      ]
    },
    {
      "cell_type": "code",
      "metadata": {
        "colab": {
          "base_uri": "https://localhost:8080/"
        },
        "id": "q0DbWeUz6aPW",
        "outputId": "8c431659-b434-46dd-b7bd-8a1699353290"
      },
      "source": [
        "from sklearn.ensemble import RandomForestRegressor\n",
        "forest=RandomForestRegressor(n_estimators=1000,criterion='mse',random_state=1,n_jobs=-1)\n",
        "forest.fit(x_train,y_train)\n",
        "y_train_pred=forest.predict(x_train)\n",
        "y_test_pred=forest.predict(x_test)\n",
        "from sklearn.metrics import mean_squared_error\n",
        "t_train=mean_squared_error(y_train,y_train_pred)\n",
        "t_test=mean_squared_error(y_test,y_test_pred)\n",
        "print('MSE Train: %.3f, MSE test: %.3f'%(t_train,t_test))\n",
        "##\n",
        "from sklearn.metrics import r2_score\n",
        "t_train1=r2_score(y_train,y_train_pred)\n",
        "t_test1=r2_score(y_test,y_test_pred)\n",
        "print('R2 Score Train: %.3f, R2 Score of test: %.3f'%(t_train1,t_test1))"
      ],
      "execution_count": 225,
      "outputs": [
        {
          "output_type": "stream",
          "text": [
            "MSE Train: 4.481, MSE test: 34.326\n",
            "R2 Score Train: 0.892, R2 Score of test: -1.424\n"
          ],
          "name": "stdout"
        }
      ]
    },
    {
      "cell_type": "code",
      "metadata": {
        "id": "Gml3grc75E21"
      },
      "source": [
        ""
      ],
      "execution_count": 225,
      "outputs": []
    },
    {
      "cell_type": "code",
      "metadata": {
        "id": "J1p9lOao5K1x",
        "colab": {
          "base_uri": "https://localhost:8080/",
          "height": 279
        },
        "outputId": "4b050de1-9228-4e1f-b777-58ffb5a2b74a"
      },
      "source": [
        "import matplotlib.pyplot as plt\n",
        "plt.scatter(y_train_pred,y_train_pred-y_train,c='steelblue',edgecolor='white',marker='o',s=35,alpha=0.9,label='training data')\n",
        "plt.scatter(y_test_pred,y_test_pred-y_test,c='limegreen',edgecolor='white',marker='s',s=45,alpha=0.9,label='test data')\n",
        "plt.xlabel('predected value')\n",
        "plt.ylabel('Residuals')\n",
        "plt.legend(loc='upper left')\n",
        "plt.hlines(y=0,xmin=-10,xmax=50,lw=2,color='black')\n",
        "plt.xlim([-10,50])\n",
        "plt.show()"
      ],
      "execution_count": 226,
      "outputs": [
        {
          "output_type": "display_data",
          "data": {
            "image/png": "[encoded data removed]",
            "text/plain": [
              "<Figure size 432x288 with 1 Axes>"
            ]
          },
          "metadata": {
            "tags": [],
            "needs_background": "light"
          }
        }
      ]
    }
  ]
}